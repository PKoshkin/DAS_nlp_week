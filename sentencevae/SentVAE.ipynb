{
 "cells": [
  {
   "cell_type": "markdown",
   "metadata": {
    "colab_type": "text",
    "id": "view-in-github"
   },
   "source": [
    "<a href=\"https://colab.research.google.com/github/probabll/dgm4nlp/blob/master/notebooks/sentencevae/SentVAE.ipynb\" target=\"_parent\"><img src=\"https://colab.research.google.com/assets/colab-badge.svg\" alt=\"Open In Colab\"/></a>"
   ]
  },
  {
   "cell_type": "code",
   "execution_count": 1,
   "metadata": {
    "colab": {},
    "colab_type": "code",
    "id": "AcYW7MDKScQ6"
   },
   "outputs": [],
   "source": [
    "%matplotlib inline\n",
    "\n",
    "import os\n",
    "import re\n",
    "import urllib.request\n",
    "import numpy as np\n",
    "import torch\n",
    "import torch.nn as nn\n",
    "import torch.nn.functional as F\n",
    "import torch.optim as optim\n",
    "import matplotlib.pyplot as plt\n",
    "\n",
    "from torch.utils.data import Dataset, DataLoader\n",
    "from torch.nn.utils.rnn import pack_padded_sequence, pad_packed_sequence\n",
    "device = torch.device(\"cuda:0\") if torch.cuda.is_available() else torch.device(\"cpu\")"
   ]
  },
  {
   "cell_type": "markdown",
   "metadata": {
    "colab_type": "text",
    "id": "pMktCZC3Vwyg"
   },
   "source": [
    "In this notebook you will work with a deep generative language model that maps sentences from a continuous latent space. We will use text data in English and pytorch. \n",
    "\n",
    "The first section concerns data manipulation and data loading classes necessary for our implementation. You do not need to modify anything in this part of the code, but it is useful to read through as it might illustrate some good practices."
   ]
  },
  {
   "cell_type": "markdown",
   "metadata": {
    "colab_type": "text",
    "id": "ca_L1zfDScRC"
   },
   "source": [
    "Let's first download the Penn Treebank dataset that we will be using for this notebook: these are the sentences in the PTB English corpus."
   ]
  },
  {
   "cell_type": "code",
   "execution_count": 2,
   "metadata": {
    "colab": {},
    "colab_type": "code",
    "id": "pYl0oQJVScRE"
   },
   "outputs": [
    {
     "name": "stdout",
     "output_type": "stream",
     "text": [
      "Downloading data files...\n",
      "Download complete.\n"
     ]
    }
   ],
   "source": [
    "url = \"https://raw.githubusercontent.com/jhcross/span-parser/master/data/\"\n",
    "train_file = \"02-21.10way.clean\"\n",
    "val_file = \"22.auto.clean\"\n",
    "test_file = \"23.auto.clean\"\n",
    "\n",
    "print(\"Downloading data files...\")\n",
    "if not os.path.isfile(train_file):\n",
    "    urllib.request.urlretrieve(url + train_file, filename=train_file)\n",
    "if not os.path.isfile(val_file):\n",
    "    urllib.request.urlretrieve(url + val_file, filename=val_file)\n",
    "if not os.path.isfile(test_file):\n",
    "    urllib.request.urlretrieve(url + test_file, filename=test_file)\n",
    "print(\"Download complete.\")"
   ]
  },
  {
   "cell_type": "markdown",
   "metadata": {
    "colab_type": "text",
    "id": "oPlLBwayScRN"
   },
   "source": [
    "# Data\n",
    "\n",
    "In order to work with text data, we need to transform the text into something that our algorithms can work with. The first step of this process is converting words into word ids. We do this by constructing a vocabulary from the data, assigning a new word id to each new word it encounters."
   ]
  },
  {
   "cell_type": "code",
   "execution_count": 3,
   "metadata": {
    "colab": {},
    "colab_type": "code",
    "id": "S4wtwvwaScRP"
   },
   "outputs": [],
   "source": [
    "UNK_TOKEN = \"<unk>\"\n",
    "PAD_TOKEN = \"<pad>\"\n",
    "SOS_TOKEN = \"<s>\"\n",
    "EOS_TOKEN = \"</s>\"\n",
    "\n",
    "\n",
    "def tokens_from_treestring(s):\n",
    "    \"\"\"\n",
    "    Removes the parse trees in the PTB dataset.\n",
    "    \"\"\"\n",
    "    return \" \".join(re.findall(r\"\\([A-Z]* ([^\\(\\)]+)\\)\", s))\n",
    "\n",
    "\n",
    "class Vocabulary:\n",
    "    \n",
    "    def __init__(self):\n",
    "        self.idx_to_word = {0: UNK_TOKEN, 1: PAD_TOKEN, 2: SOS_TOKEN, 3: EOS_TOKEN}\n",
    "        self.word_to_idx = {UNK_TOKEN: 0, PAD_TOKEN: 1, SOS_TOKEN: 2, EOS_TOKEN: 3}\n",
    "        self.word_freqs = {}\n",
    "    \n",
    "    def __getitem__(self, key):\n",
    "        return self.word_to_idx[key] if key in self.word_to_idx else self.word_to_idx[UNK_TOKEN]\n",
    "    \n",
    "    def word(self, idx):\n",
    "        return self.idx_to_word[idx]\n",
    "    \n",
    "    def size(self):\n",
    "        return len(self.word_to_idx)\n",
    "    \n",
    "    @staticmethod\n",
    "    def from_data(filenames):\n",
    "        \"\"\"\n",
    "            Creates a vocabulary from a list of data files. It assumes that the data files have been\n",
    "            tokenized and pre-processed beforehand.\n",
    "        \"\"\"\n",
    "        vocab = Vocabulary()\n",
    "        for filename in filenames:\n",
    "            with open(filename) as f:\n",
    "                for line in f:\n",
    "                    \n",
    "                    # Strip whitespace and the newline symbol.\n",
    "                    line = tokens_from_treestring(line.strip())\n",
    "                    \n",
    "                    # Split the sentences into words and assign word ids to each\n",
    "                    # new word it encounters.\n",
    "                    for word in line.split():\n",
    "                        if word not in vocab.word_to_idx:\n",
    "                            idx = len(vocab.word_to_idx)\n",
    "                            vocab.word_to_idx[word] = idx\n",
    "                            vocab.idx_to_word[idx] = word\n",
    "                            \n",
    "        return vocab"
   ]
  },
  {
   "cell_type": "code",
   "execution_count": 4,
   "metadata": {
    "colab": {},
    "colab_type": "code",
    "id": "5yGmXEQ2TQSJ"
   },
   "outputs": [
    {
     "name": "stdout",
     "output_type": "stream",
     "text": [
      "Constructing vocabulary...\n",
      "Constructed a vocabulary of 45233 word types\n"
     ]
    }
   ],
   "source": [
    "# Construct a vocabulary from the training and validation data.\n",
    "print(\"Constructing vocabulary...\")\n",
    "vocab = Vocabulary.from_data([train_file, val_file])\n",
    "print(\"Constructed a vocabulary of %d word types\" % vocab.size())"
   ]
  },
  {
   "cell_type": "code",
   "execution_count": 5,
   "metadata": {
    "colab": {},
    "colab_type": "code",
    "id": "jLP1Yy2_TtzR"
   },
   "outputs": [
    {
     "name": "stdout",
     "output_type": "stream",
     "text": [
      "the 20\n",
      "the 630\n",
      "VAE 0\n"
     ]
    }
   ],
   "source": [
    "# some examples\n",
    "print('the', vocab['the'])\n",
    "print('the', vocab['thing'])\n",
    "print('VAE', vocab['VAE'])  # something UNKNOWN"
   ]
  },
  {
   "cell_type": "markdown",
   "metadata": {
    "colab_type": "text",
    "id": "0Wwdq1DtScRX"
   },
   "source": [
    "We also need to load the data files into memory. We create a simple class `TextDataset` that stores the data as a list of sentences:"
   ]
  },
  {
   "cell_type": "code",
   "execution_count": 6,
   "metadata": {
    "colab": {},
    "colab_type": "code",
    "id": "JYC5fXfIScRa"
   },
   "outputs": [],
   "source": [
    "class TextDataset(Dataset):\n",
    "    \"\"\"\n",
    "        A simple class that loads a list of sentences into memory from a text file,\n",
    "        split by newlines. This does not do any memory optimisation, \n",
    "        so if your dataset is very large, you might want to use an alternative \n",
    "        class.\n",
    "    \"\"\"\n",
    "    \n",
    "    def __init__(self, text_file, max_len=30):\n",
    "        self.data = []\n",
    "        with open(text_file) as f:\n",
    "            for line in f:\n",
    "                sentence = tokens_from_treestring(line.strip())\n",
    "                if len(sentence.split()) <= max_len:\n",
    "                    self.data.append(sentence)\n",
    "        \n",
    "    def __len__(self):\n",
    "        return len(self.data)\n",
    "    \n",
    "    def __getitem__(self, idx):\n",
    "        return self.data[idx]"
   ]
  },
  {
   "cell_type": "code",
   "execution_count": 7,
   "metadata": {
    "colab": {},
    "colab_type": "code",
    "id": "SehavEDQTfIe"
   },
   "outputs": [
    {
     "name": "stdout",
     "output_type": "stream",
     "text": [
      "Sample from training data: \"Yet in Mr. Laband 's rehash of free-market logic human greed and self-interest are the only permissible psychological reactions\"\n",
      "Sample from validation data: \"He also professes an evangelical fervor to develop a corporate culture that rewards managers who produce and where decision-making is shared\"\n",
      "Sample from test data: \"Not everything looks grim for Quantum\"\n"
     ]
    }
   ],
   "source": [
    "# Load the training, validation, and test datasets into memory.\n",
    "train_dataset = TextDataset(train_file)\n",
    "val_dataset = TextDataset(val_file)\n",
    "test_dataset = TextDataset(test_file)\n",
    "\n",
    "# Print some samples from the data:\n",
    "print(\"Sample from training data: \\\"%s\\\"\" % train_dataset[np.random.choice(len(train_dataset))])\n",
    "print(\"Sample from validation data: \\\"%s\\\"\" % val_dataset[np.random.choice(len(val_dataset))])\n",
    "print(\"Sample from test data: \\\"%s\\\"\" % test_dataset[np.random.choice(len(test_dataset))])"
   ]
  },
  {
   "cell_type": "markdown",
   "metadata": {
    "colab_type": "text",
    "id": "PNQ1TG-3ScRh"
   },
   "source": [
    "Now it's time to write a function that converts a sentence into a list of word ids using the vocabulary we created before. This function is `create_batch` in the code cell below. This function creates a batch from a list of sentences, and makes sure that each sentence starts with a start-of-sentence symbol and ends with an end-of-sentence symbol. Because not all sentences are of equal length in a certain batch, sentences are padded with padding symbols so that they match the length of the largest sentence in the batch. The function returns an input batch, an output batch, a mask of 1s for words and 0s for padding symbols, and the sequence lengths of each sentence in the batch. The output batch is shifted by one word, to reflect the predictions that the model is expected to make. For example, for a sentence\n",
    "\\begin{align}\n",
    "    \\text{The dog runs .}\n",
    "\\end{align}\n",
    "the input sequence is\n",
    "\\begin{align}\n",
    "    \\text{SOS The dog runs .}\n",
    "\\end{align}\n",
    "and the output sequence is\n",
    "\\begin{align}\n",
    "    \\text{The dog runs . EOS}\n",
    "\\end{align}\n",
    "\n",
    "You can see the output is shifted wrt the input, that's because we will be computing a distribution for the next word in context of its prefix, and that's why we need to shift the sequence this way.\n",
    "\n",
    "\n",
    "Lastly, we create an inverse function `batch_to_sentences` that recovers the list of sentences from a padded batch of word ids to use during test time."
   ]
  },
  {
   "cell_type": "code",
   "execution_count": 8,
   "metadata": {
    "colab": {},
    "colab_type": "code",
    "id": "GcYfsIaBScRj"
   },
   "outputs": [],
   "source": [
    "def create_batch(sentences, vocab, device, word_dropout=0.):\n",
    "    \"\"\"\n",
    "    Converts a list of sentences to a padded batch of word ids. Returns\n",
    "    an input batch, an output batch shifted by one, a sequence mask over\n",
    "    the input batch, and a tensor containing the sequence length of each\n",
    "    batch element.\n",
    "    :param sentences: a list of sentences, each a list of token ids\n",
    "    :param vocab: a Vocabulary object for this dataset\n",
    "    :param device: \n",
    "    :param word_dropout: rate at which we omit words from the context (input)\n",
    "    :returns: a batch of padded inputs, a batch of padded outputs, mask, lengths\n",
    "    \"\"\"\n",
    "    tok = np.array([[SOS_TOKEN] + sen.split() + [EOS_TOKEN] for sen in sentences])\n",
    "    seq_lengths = [len(sen)-1 for sen in tok]\n",
    "    max_len = max(seq_lengths)\n",
    "    pad_id = vocab[PAD_TOKEN]\n",
    "    pad_id_input = [\n",
    "        [vocab[sen[t]] if t < seq_lengths[idx] else pad_id for t in range(max_len)]\n",
    "            for idx, sen in enumerate(tok)]\n",
    "    \n",
    "    # Replace words of the input with <unk> with p = word_dropout.\n",
    "    if word_dropout > 0.:\n",
    "        unk_id = vocab[UNK_TOKEN]\n",
    "        word_drop =  [\n",
    "            [unk_id if (np.random.random() < word_dropout and t < seq_lengths[idx]) else word_ids[t] for t in range(max_len)] \n",
    "                for idx, word_ids in enumerate(pad_id_input)]\n",
    "    \n",
    "    # The output batch is shifted by 1.\n",
    "    pad_id_output = [\n",
    "        [vocab[sen[t+1]] if t < seq_lengths[idx] else pad_id for t in range(max_len)]\n",
    "            for idx, sen in enumerate(tok)]\n",
    "    \n",
    "    # Convert everything to PyTorch tensors.\n",
    "    batch_input = torch.tensor(pad_id_input)\n",
    "    batch_output = torch.tensor(pad_id_output)\n",
    "    seq_mask = (batch_input != vocab[PAD_TOKEN])\n",
    "    seq_length = torch.tensor(seq_lengths)\n",
    "    \n",
    "    # Move all tensors to the given device.\n",
    "    batch_input = batch_input.to(device)\n",
    "    batch_output = batch_output.to(device)\n",
    "    seq_mask = seq_mask.to(device)\n",
    "    seq_length = seq_length.to(device)\n",
    "    \n",
    "    return batch_input, batch_output, seq_mask, seq_length\n",
    "\n",
    "\n",
    "def batch_to_sentences(tensors, vocab: Vocabulary):\n",
    "    \"\"\"\n",
    "    Converts a batch of word ids back to sentences.\n",
    "    :param tensors: [B, T] word ids\n",
    "    :param vocab: a Vocabulary object for this dataset\n",
    "    :returns: an array of strings (each a sentence).\n",
    "    \"\"\"\n",
    "    sentences = []\n",
    "    batch_size = tensors.size(0)\n",
    "    for idx in range(batch_size):\n",
    "        sentence = [vocab.word(t.item()) for t in tensors[idx,:]]\n",
    "        \n",
    "        # Filter out the start-of-sentence and padding tokens.\n",
    "        sentence = list(filter(lambda t: t != PAD_TOKEN and t != SOS_TOKEN, sentence))\n",
    "        \n",
    "        # Remove the end-of-sentence token and all tokens following it.\n",
    "        if EOS_TOKEN in sentence:\n",
    "            sentence = sentence[:sentence.index(EOS_TOKEN)]\n",
    "            \n",
    "        sentences.append(\" \".join(sentence))\n",
    "    return np.array(sentences)"
   ]
  },
  {
   "cell_type": "markdown",
   "metadata": {
    "colab_type": "text",
    "id": "l7R5_4wwScRq"
   },
   "source": [
    "In PyTorch the RNN functions expect inputs to be sorted from long sentences to shorter ones. Therefore we create a simple wrapper class for the DataLoader class that sorts sentences from long to short:  "
   ]
  },
  {
   "cell_type": "code",
   "execution_count": 9,
   "metadata": {
    "colab": {},
    "colab_type": "code",
    "id": "Xjtwes5iScRs"
   },
   "outputs": [],
   "source": [
    "class SortingTextDataLoader:\n",
    "    \"\"\"\n",
    "    A wrapper for the DataLoader class that sorts a list of sentences by their\n",
    "    lengths in descending order.\n",
    "    \"\"\"\n",
    "\n",
    "    def __init__(self, dataloader):\n",
    "        self.dataloader = dataloader\n",
    "        self.it = iter(dataloader)\n",
    "    \n",
    "    def __iter__(self):\n",
    "        return self\n",
    "    \n",
    "    def __next__(self):\n",
    "        sentences = None\n",
    "        for s in self.it:\n",
    "            sentences = s\n",
    "            break\n",
    "\n",
    "        if sentences is None:\n",
    "            self.it = iter(self.dataloader)\n",
    "            raise StopIteration\n",
    "        \n",
    "        sentences = np.array(sentences)\n",
    "        sort_keys = sorted(range(len(sentences)), \n",
    "                           key=lambda idx: len(sentences[idx].split()), \n",
    "                           reverse=True)\n",
    "        sorted_sentences = sentences[sort_keys]\n",
    "        return sorted_sentences"
   ]
  },
  {
   "cell_type": "markdown",
   "metadata": {
    "colab_type": "text",
    "id": "bkrOx_-NScRw"
   },
   "source": [
    "# Model\n",
    "\n",
    "## Deterministic language model\n",
    "\n",
    "In language modelling, we model a sentence $x = \\langle x_1, \\ldots, x_n \\rangle$  of length $n = |x|$ as a sequence of categorical draws:\n",
    "\n",
    "\\begin{align}\n",
    "X_i|x_{<i} & \\sim \\text{Cat}(f(x_{<i}; \\theta)) \n",
    "& i = 1, \\ldots, n \\\\\n",
    "\\end{align}\n",
    "\n",
    "where we use $x_{<i}$ to denote a (possibly empty) prefix string, and thus the model makes no Markov assumption. We map from the conditioning context, the prefix $x_{<i}$, to the categorical parameters (a $v$-dimensional probability vector, where $v$ denotes the size of the vocabulary of the language) using a fixed neural network architecture whose parameters we collectively denote by $\\theta$.\n",
    "\n",
    "This assigns the following likelihood to the sentence\n",
    "\\begin{align}\n",
    "    P(x|\\theta) &= \\prod_{i=1}^n P(x_i|x_{<i}, \\theta) \\\\\n",
    "    &= \\prod_{i=1}^n \\text{Cat}(x_i|f(x_{<i}; \\theta))  \n",
    "\\end{align}\n",
    "where the categorical pmf is $\\text{Cat}(k|\\pi) = \\prod_{j=1}^v \\pi_j^{[k=j]} = \\pi_k$. \n",
    "\n",
    "\n",
    "Suppose we have a dataset $\\mathcal D = \\{x^{(1)}, \\ldots, x^{(N)}\\}$ containing $N$ i.i.d. observations. Then we can use the log-likelihood function \n",
    "\\begin{align}\n",
    "\\mathcal L(\\theta|\\mathcal D) &= \\sum_{k=1}^{N} \\log P(x^{(k)}| \\theta) \\\\\n",
    "&= \\sum_{k=1}^{N} \\sum_{i=1}^{|x^{(k)}|} \\log \\text{Cat}(x^{(k)}_i|f(x^{(k)}_{<i}; \\theta))\n",
    "\\end{align}\n",
    " to estimate $\\theta$ by maximisation:\n",
    " \\begin{align}\n",
    " \\theta^\\star = \\arg\\max_{\\theta \\in \\Theta} \\mathcal L(\\theta|\\mathcal D) ~ .\n",
    " \\end{align}\n",
    " \n",
    "\n",
    "We can use stochastic gradient-ascent to find a local optimum of $\\mathcal L(\\theta|\\mathcal D)$, which only requires a gradient estimate:\n",
    "\n",
    "\\begin{align}\n",
    "\\nabla_\\theta \\mathcal L(\\theta|\\mathcal D) &= \\sum_{k=1}^{|\\mathcal D|} \\nabla_\\theta  \\log P(x^{(k)}|\\theta) \\\\ \n",
    "&= \\sum_{k=1}^{|\\mathcal D|} \\frac{1}{N} N \\nabla_\\theta  \\log P(x^{(k)}| \\theta)  \\\\\n",
    "&= \\mathbb E_{\\mathcal U(1/N)} \\left[ N \\nabla_\\theta  \\log P(x^{(K)}| \\theta) \\right]  \\\\\n",
    "&\\overset{\\text{MC}}{\\approx} \\frac{N}{M} \\sum_{m=1}^M \\nabla_\\theta  \\log P(x^{(k_m)}|\\theta) \\\\\n",
    "&\\text{where }K_m \\sim \\mathcal U(1/N)\n",
    "\\end{align}\n",
    "\n",
    "This is a Monte Carlo (MC) estimate of the gradient computed on $M$ data points selected uniformly at random from $\\mathcal D$.\n",
    "\n",
    "For as long as $f$ remains differentiable wrt to its inputs and parameters, we can rely on automatic differentiation to obtain gradient estimates.\n",
    "\n",
    "\n",
    "An example design for $f$ is:\n",
    "\\begin{align}\n",
    "\\mathbf x_i &= \\text{emb}(x_i; \\theta_{\\text{emb}}) \\\\\n",
    "\\mathbf h_0 &\\in \\theta_{\\text{rnn}} \\\\\n",
    "\\mathbf h_i &= \\text{rnn}(\\mathbf h_{i-1}, \\mathbf x_{i-1}; \\theta_{\\text{rnn}}) \\\\\n",
    "f(x_{<i}; \\theta) &= \\text{softmax}(\\text{dense}_v(\\mathbf h_{i};  \\theta_{\\text{out}}))\n",
    "\\end{align}\n",
    "where \n",
    "* $\\text{emb}$ is a fixed embedding layer with parameters $\\theta_{\\text{emb}}$;\n",
    "* $\\text{rnn}$ is a recurrent architecture with parameters $\\theta_{\\text{rnn}}$, e.g. an LSTM or GRU, and $\\mathbf h_0$ is part of the architecture's parameters;\n",
    "* $\\text{dense}_v$ is a dense layer with $v$ outputs (vocabulary size) and parameters $\\theta_{\\text{out}}$.\n",
    "\n",
    "\n",
    "\n",
    "In what follows we show how to extend this model with a continuous latent sentence embedding."
   ]
  },
  {
   "cell_type": "markdown",
   "metadata": {
    "colab_type": "text",
    "id": "xhO8rD2DYuar"
   },
   "source": [
    "## Deep generative language model\n",
    "\n",
    "We want to model a sentence $x$ as a draw from the marginal of deep generative model $p(z, x|\\theta) = p(z)P(x|z, \\theta)$. Note that we use $p(\\cdot)$ for pdfs and $P(\\cdot)$ for pmfs.\n",
    "\n",
    "\n",
    "### Generative model\n",
    "\n",
    "The generative story is:\n",
    "\\begin{align}\n",
    "    Z & \\sim \\mathcal N(0, I) \\\\\n",
    "    X_i | z, x_{<i} &\\sim \\text{Cat}(f(z, x_{<i}; \\theta)) & i=1, \\ldots, n\n",
    "\\end{align}\n",
    "where $z \\in \\mathbb R^D$ and  we impose a standard Gaussian prior on latent space. Other choices of prior can induce interesting properties in latent space, however, in this notebook, we use the Gaussian for its simplicity.\n",
    "\n",
    "It is easy to design $f$ by a simple modification of the deterministic design shown before:\n",
    "\\begin{align}\n",
    "\\mathbf x_i &= \\text{emb}(x_i; \\theta_{\\text{emb}}) \\\\\n",
    "\\mathbf h_0 &= \\tanh(\\text{dense}(z; \\theta_{\\text{init}})) \\\\\n",
    "\\mathbf h_i &= \\text{rnn}(\\mathbf h_{i-1}, \\mathbf x_{i-1}; \\theta_{\\text{rnn}}) \\\\\n",
    "f(x_{<i}; \\theta) &= \\text{softmax}(\\text{dense}_v(\\mathbf h_{i};  \\theta_{\\text{out}}))\n",
    "\\end{align}\n",
    "where we just initialise the recurrent cell using $z$. Note we could also use $z$ in other places, for example, as additional input to every update of the recurrent cell $\\mathbf h_i = \\text{rnn}(\\mathbf h_{i-1}, [\\mathbf x_{i-1}, z])$. This is an architecture choice which like many others can only be judged empirically or on the basis of practical convenience.\n",
    "\n"
   ]
  },
  {
   "cell_type": "markdown",
   "metadata": {
    "colab_type": "text",
    "id": "YwB7igyXg8uU"
   },
   "source": [
    "### Parameter estimation\n",
    "\n",
    "The marginal likelihood, necessary for parameter estimation, is now no longer tractable:\n",
    "\\begin{align}\n",
    "P(x|\\theta) &= \\int p(z)P(x|z, \\theta) \\text{d}z \\\\\n",
    "&= \\int \\mathcal N(z|0, I)\\prod_{i=1}^n \\text{Cat}(x_i|f(z,x_{<i}; \\theta) )\\text{d}z \n",
    "\\end{align}\n",
    "the intractability is clear as even if $f$ would be linear (recall it isn't) the Gaussian and the Categorical are not conjugate and the integration has no closed-form solution.\n",
    "\n",
    "We turn to variational inference and derive a lowerbound $\\mathcal E(\\theta, \\lambda|\\mathcal D)$ on the log-likelihood function\n",
    "\n",
    "\\begin{align}\n",
    "    \\mathcal E(\\theta, \\lambda|\\mathcal D) &= \\sum_{k=1}^{|\\mathcal D|} \\mathcal E_k(\\theta, \\lambda|x^{(k)}) \n",
    "\\end{align}\n",
    "\n",
    "which for a single datapoint $x$ is\n",
    "\\begin{align}\n",
    "    \\mathcal E(\\theta, \\lambda|x) &= \\mathbb{E}_{q(z|x)}\\left[\\log P(x|z, \\theta)\\right] - \\text{KL}\\left(q(z|x, \\lambda)||p(z)\\right)\\\\\n",
    "\\end{align}\n",
    "where we have introduce an independently parameterised auxiliary distribution $q(z|x, \\lambda)$. The distribution $q$ which maximises this *evidence lowerbound* (ELBO) is also the distribution that minimises \n",
    "\\begin{align}\n",
    "\\text{KL}(q(z|x, \\lambda)||p(z|x, \\theta)) = \\mathbb E_{q(z|x, \\lambda)}\\left[ \\frac{q(z|x, \\lambda)}{p(z|x, \\theta)}\\right]\n",
    "\\end{align}\n",
    " where $p(z|x, \\theta) = \\frac{p(x, z|\\theta)}{p(x|\\theta)}$ is our intractable true posterior. For that reason, we think of $q(z|x, \\lambda)$ as an *approximate posterior*. \n",
    " \n",
    " The approximate posterior is an independent model of the latent variable given the data, for that reason we also call it an *inference model*. \n",
    " In this notebook, our inference model will be a diagonal Gaussian, to make sure that we cover the sample space of our latent variable. A diagonal Gaussian models each component of the latent representation independently, and is an example of mean field (MF) inference:\n",
    " \n",
    " \\begin{align}\n",
    "    q(z|x, \\lambda) &\\overset{\\text{MF}}{=} \\prod_{d=1}^D \\mathcal N(z_d|\\mu_d(x; \\lambda); \\sigma_d(x; \\lambda)^2) \\\\\n",
    "    &= \\mathcal N(z|\\mu(x; \\lambda), \\text{diag}(\\sigma(x; \\lambda)^2))\n",
    " \\end{align}\n",
    " \n",
    " where we employ neural network architectures to map from the sentence $x$ to a vector of locations (in $\\mathbb R^D$) and a vector of scales (in $\\mathbb R^D_{>0}$).\n",
    " \n",
    " \n",
    "For this choice, the KL term in the ELBO is tractable:\n",
    "\n",
    "\\begin{align}\n",
    "\\text{KL}\\left(q(z|x, \\lambda)||p(z)\\right) &= \\sum_{d=1}^D \\text{KL}\\left(q(z_d|x, \\lambda)||p(z_d)\\right) \\\\\n",
    "&= \\sum_{d=1}^D \\text{KL}\\left(\\mathcal N(u_d, s^2)|| \\mathcal N(0,1)\\right) \\\\\n",
    "&= - \\frac{1}{2} \\sum_{d=1}^D \\left(1 + \\log s_d^2 - u_d^2 - s_d^2 \\right)\n",
    "\\end{align}\n",
    "where $u_d = \\mu_d(x; \\lambda)$ and $s_d = \\sigma_d(x; \\lambda)$.\n",
    "\n",
    " \n",
    "Here's an example design for our inference model:\n",
    "\n",
    "\\begin{align}\n",
    "\\mathbf x_i &= \\text{emb}(x_i; \\lambda_{\\text{emb}}) \\\\\n",
    "\\mathbf f_i &= \\text{rnn}(\\mathbf f_{i-1}, \\mathbf x_{i}; \\lambda_{\\text{fwd}}) \\\\\n",
    "\\mathbf b_i &= \\text{rnn}(\\mathbf b_{i+1}, \\mathbf x_{i}; \\lambda_{\\text{bwd}}) \\\\\n",
    "\\mathbf h &= \\text{dense}([\\mathbf f_{n}, \\mathbf b_1]; \\lambda_{\\text{hid}}) \\\\\n",
    "\\mu(x; \\lambda) &= \\text{dense}(\\mathbf h; \\lambda_{\\text{loc}})\\\\\n",
    "\\sigma(x; \\lambda) &= \\text{softplus}(\\text{dense}(\\mathbf h; \\lambda_{\\text{scale}}))\n",
    "\\end{align}\n",
    "\n",
    "where we use the $\\text{softplus}$ activation to make sure our scales are strictly positive. Note that $\\exp$ would also do that job, though $\\text{softplus}$ is assymptotically linear with its input, which gives us better gradient dynamics.\n",
    " \n",
    "Because we have neural networks compute the diagonal Gaussian parameters for us, we call this *amortised* mean field inference.\n",
    "\n"
   ]
  },
  {
   "cell_type": "markdown",
   "metadata": {
    "colab_type": "text",
    "id": "y8BTCCPVOKp_"
   },
   "source": [
    "### Gradient estimation\n",
    "\n",
    "We have to obtain gradients of the ELBO\n",
    "\n",
    "\\begin{align}\n",
    "\\nabla_\\theta  \\mathcal E(\\theta, \\lambda|x) &=  \\mathbb{E}_{q(z|x)}\\left[\\nabla_\\theta \\log P(x|z, \\theta)\\right] - \\underbrace{\\nabla_\\theta \\text{KL}\\left(q(z|x, \\lambda)||p(z)\\right)}_{=0}\n",
    "\\end{align}\n",
    "\n",
    "and \n",
    "\n",
    "\\begin{align}\n",
    "\\nabla_\\lambda  \\mathcal E(\\theta, \\lambda|x) &= \\nabla_\\lambda\\mathbb{E}_{q(z|x)}\\left[\\log P(x|z, \\theta)\\right] - \\nabla_\\lambda \\text{KL}\\left(q(z|x, \\lambda)||p(z)\\right)\n",
    "\\end{align}\n",
    "\n",
    "Clearly, the gradient for the generative network is easy to estimate using MC, but the gradient for the inference network is more complicated because we don't have an expected gradient, rather the gradient of an expected value.\n",
    "\n",
    "But recall, that we chose a Gaussian for approximate posterior, and Gaussians are what we call a location-scale family. Every Gaussian variable can be *re-expressed* or  **reparameterised** in terms of the standard Gaussian (a distribution with fixed parameters), that is:\n",
    "\n",
    "\\begin{align}\n",
    "\\epsilon = \\frac{z - \\mu(x; \\sigma)}{\\sigma(x; \\lambda)} &\\sim \\mathcal N(0, I) \\\\\n",
    "z = \\mu(x; \\lambda) + \\sigma(x;\\lambda) \\odot \\epsilon &\\sim \\mathcal N(\\mu(x; \\lambda), \\text{diag}(\\sigma(x; \\lambda)^2))\n",
    "\\end{align}\n",
    "\n",
    "where $\\epsilon$ is distributed by a $D$-dimensional standard Gaussian and $\\odot$ denotes elementwise multiplication.\n",
    "\n",
    "This means we can rewrite the ELBO as\n",
    "\n",
    "\\begin{align}\n",
    "\\mathcal E(\\theta, \\lambda|x) &= \\mathbb{E}_{\\epsilon \\sim \\mathcal N(0, I)}\\left[\\log P(x|z=\\mu(x; \\lambda) + \\sigma(x; \\lambda) \\odot \\epsilon, \\theta)\\right] - \\text{KL}\\left(q(z|x, \\lambda)||p(z)\\right) \n",
    "\\end{align}\n",
    "\n",
    "and though we could also rewrite the KL term, we will leave as is because it is tractable to compute.\n",
    "\n",
    "Now our gradients are both very simple:\n",
    "\n",
    "\\begin{align}\n",
    "\\nabla_\\theta \\mathcal E(\\theta, \\lambda|x) &= \\mathbb{E}_{\\epsilon \\sim \\mathcal N(0, I)}\\left[\\nabla_\\theta \\log P(x|z=\\mu(x; \\lambda) + \\sigma(x; \\lambda) \\odot \\epsilon, \\theta)\\right] - \\underbrace{\\nabla_\\theta \\text{KL}\\left(q(z|x, \\lambda)||p(z)\\right)}_{=0} \\\\\n",
    "&\\overset{\\text{MC}}{\\approx} \\frac{1}{S} \\sum_{s=1}^S \\nabla_\\theta \\log P(x|z^{(s)}, \\theta) \\\\\n",
    "&\\text{where }z^{(s)} = \\mu(x; \\lambda) + \\sigma(x; \\lambda) \\odot \\epsilon^{(s)}\\\\\n",
    "&\\text{and }\\epsilon^{(s)} \\sim \\mathcal N(0, I)\n",
    "\\end{align}\n",
    "\n",
    "and \n",
    "\n",
    "\\begin{align}\n",
    "\\nabla_\\lambda \\mathcal E(\\theta, \\lambda|x) &=\\nabla_\\lambda \\mathbb{E}_{\\epsilon \\sim \\mathcal N(0, I)}\\left[\\nabla_\\lambda \\log P(x|z=\\mu(x; \\lambda) + \\sigma(x; \\lambda) \\odot \\epsilon, \\theta)\\right] - \\nabla_\\lambda \\underbrace{\\text{KL}\\left(q(z|x, \\lambda)||p(z)\\right)}_{\\text{tractable}} \\\\\n",
    "&\\overset{\\text{MC}}{\\approx} \\left(\\frac{1}{S} \\sum_{s=1}^S \\nabla_\\lambda \\log P(x|z^{(s)}, \\theta)\\right) -  \\nabla_\\lambda \\underbrace{\\text{KL}\\left(q(z|x, \\lambda)||p(z)\\right)}_{\\text{tractable}}\\\\\n",
    "&\\text{where }z^{(s)} = \\mu(x; \\lambda) + \\sigma(x; \\lambda) \\odot \\epsilon^{(s)}\\\\\n",
    "&\\text{and }\\epsilon^{(s)} \\sim \\mathcal N(0, I)\n",
    "\\end{align}\n",
    "\n",
    "and note how both, but especially the second, use this notion of *reparameterised sample* to make all sources of stochasticity independent of the parameters of the network.\n",
    "\n",
    "Gradient estimates of this sort are known in the literature as *reparameterised gradients* and this makes our model an instance of what is known in the literature as a *variational auto-encoder* (VAE).\n",
    "\n"
   ]
  },
  {
   "cell_type": "markdown",
   "metadata": {
    "colab_type": "text",
    "id": "A6lhOGrkTNA3"
   },
   "source": [
    "\n",
    "## Implementation\n",
    "\n",
    "We start by implementing our generative model, which requires implementing a Gaussian/Normal distribution:\n",
    "\n",
    "Check the [wikipedia page about Normal distribution](https://en.wikipedia.org/wiki/Normal_distribution) for information such as the functional form of the pdf. \n",
    "\n",
    "You will need the KL divergence for univariate Normal distributions:\n",
    "\n",
    "\\begin{align}\n",
    "\\text{KL}\\left(\\mathcal N(\\mu_1, \\sigma_1^2) || \\mathcal N(\\mu_2, \\sigma_2^2)\\right)\n",
    "&= \\frac{1}{2 \\sigma_2^2} \\left((\\mu_1 - \\mu_2)^2 + \\sigma_1^2 - \\sigma_2^2\\right) + \\log \\frac{\\sigma_2}{\\sigma_1}\n",
    "\\end{align}\n",
    "\n",
    "\n"
   ]
  },
  {
   "cell_type": "code",
   "execution_count": 10,
   "metadata": {
    "colab": {},
    "colab_type": "code",
    "id": "ITzvi_ovpZUy"
   },
   "outputs": [],
   "source": [
    "class Normal:\n",
    "    \"\"\"\n",
    "    This is a normal distribution\n",
    "        N(u, s^2)\n",
    "    thus specified by a location u and a strictly positive scale.\n",
    "    \n",
    "    This class can hold a collection of D independent Gaussian variables\n",
    "        by having a D-dimensional vector of locations and \n",
    "        a D-dimensinal vector of scales.        \n",
    "    \"\"\"\n",
    "    \n",
    "    def __init__(self, loc, scale):\n",
    "        \"\"\"\n",
    "        :param loc: a tensor of locations (real numbers)\n",
    "        :param scale: a tensor of scales (strictly positive real numbers)\n",
    "        \"\"\"\n",
    "        self.loc = loc\n",
    "        self.scale = scale\n",
    "    \n",
    "    def mean(self):\n",
    "        \"\"\"For Gaussians this is the location\"\"\"\n",
    "        return self.loc\n",
    "    \n",
    "    def std(self):\n",
    "        \"\"\"For Gaussians this is the scale\"\"\"\n",
    "        return self.scale\n",
    "    \n",
    "    def sample(self):\n",
    "        \"\"\"\n",
    "        Returns a reparameterised sample with the shape of the location parameter.\n",
    "        \"\"\"\n",
    "        eps = torch.randn_like(self.loc)\n",
    "        return self.loc + self.scale * eps\n",
    "    \n",
    "    def log_pdf(self, x):\n",
    "        \"\"\"\n",
    "        Assess the log probability density of x.\n",
    "        \n",
    "        :param x: a tensor of Gaussian samples (same shape as the location parameter)\n",
    "        :returns:  tensor of log probabilitie densities\n",
    "        \"\"\"\n",
    "        return -0.5 * (x - self.loc) ** 2 / self.scale ** 2 - 0.5 * torch.log(2 * np.pi * self.scale ** 2)\n",
    "\n",
    "    def kl(self, other: 'Normal'):\n",
    "        \"\"\"\n",
    "        The KL divergence between two Gaussians\n",
    "        :returns: a tensor of KL values with the same shape as the parameters of self.\n",
    "        \"\"\"\n",
    "        return torch.log(other.scale) - torch.log(self.scale) \\\n",
    "            + ((self.loc - other.loc) ** 2 + self.scale ** 2 - other.scale ** 2) / (2. * other.scale ** 2)"
   ]
  },
  {
   "cell_type": "code",
   "execution_count": 11,
   "metadata": {
    "colab": {},
    "colab_type": "code",
    "id": "v7N6FU3c2V86"
   },
   "outputs": [],
   "source": [
    "# tests for Normal\n",
    "torch.manual_seed(0xBADF00D)\n",
    "dummy_loc = torch.randn(10, requires_grad=True)\n",
    "dummy_scale = torch.linspace(0.1, 5.0, 10, requires_grad=True)\n",
    "dummy_samples = Normal(dummy_loc, dummy_scale).sample()\n",
    "sample_pdf = Normal(dummy_loc, dummy_scale).log_pdf(dummy_samples)\n",
    "\n",
    "dummy_grads = torch.autograd.grad(dummy_samples.mean(), [dummy_loc, dummy_scale], allow_unused=True)\n",
    "assert all(grad is not None for grad in dummy_grads), \"samples are not differentiable w.r.t. loc and/or scale. \"\\\n",
    "                                                      \" Make sure you use torch throughout the implementation \"\n",
    "assert sample_pdf.shape == dummy_loc.shape\n",
    "\n",
    "# kl divergence\n",
    "dummy_loc_2 = torch.randn(10, requires_grad=True)\n",
    "\n",
    "normal1 = Normal(dummy_loc, dummy_scale)\n",
    "normal2 = Normal(dummy_loc_2, 5.1 - dummy_scale)\n",
    "dummy_kl = normal1.kl(normal2)\n",
    "\n",
    "dummy_kl_ref = torch.tensor([3.423, 1.468, 0.8952, 0.4297, 0.1506, 0.2868, 0.8887, 4.5, 21.904, 1355.1639])\n",
    "assert dummy_kl.shape == dummy_kl_ref.shape, \"please return a batch of KL divergence with the same shape as self.loc\"\n",
    "assert torch.allclose(dummy_kl, dummy_kl_ref, rtol=1e-3, atol=1e-3), \"your KL implementation is off\""
   ]
  },
  {
   "cell_type": "markdown",
   "metadata": {
    "colab_type": "text",
    "id": "SsgJqripsmDP"
   },
   "source": [
    "Then we should implement the inference model $q(z | x, \\lambda)$:"
   ]
  },
  {
   "cell_type": "code",
   "execution_count": 12,
   "metadata": {
    "colab": {},
    "colab_type": "code",
    "id": "XUqjJzdXYtMa"
   },
   "outputs": [],
   "source": [
    "class InferenceModel(nn.Module):\n",
    "\n",
    "    def __init__(self, vocab_size, embedder, hidden_size,\n",
    "                 latent_size, pad_idx, bidirectional=False):\n",
    "        \"\"\"\n",
    "        Implement the layers in the inference model.\n",
    "        \n",
    "        :param vocab_size: size of the vocabulary of the language\n",
    "        :param embedder: embedding layer\n",
    "        :param hidden_size: size of recurrent cell\n",
    "        :param latent_size: size D of the latent variable\n",
    "        :param pad_idx: id of the -PAD- token\n",
    "        :param bidirectional: whether we condition on x via a bidirectional or \n",
    "          unidirectional encoder          \n",
    "        \"\"\"\n",
    "        super(InferenceModel, self).__init__()\n",
    "        self.embedder = embedder\n",
    "        self.vocab_size = vocab_size\n",
    "        self.lstm = nn.LSTM(embedder.embedding_dim, hidden_size, bidirectional=bidirectional, batch_first=True)\n",
    "        lstm_output_size = hidden_size * 2 if bidirectional else hidden_size\n",
    "        self.linear_layer = nn.Linear(lstm_output_size, 2 * latent_size)\n",
    "        self.loc_model = nn.Linear(2 * latent_size, latent_size)\n",
    "        self.scale_model = nn.Sequential(\n",
    "            nn.Linear(2 * latent_size, latent_size),\n",
    "            nn.Softplus()\n",
    "        )        \n",
    "\n",
    "    def forward(self, x, seq_mask, seq_len) -> Normal:\n",
    "        \"\"\"\n",
    "        Return an inference Gaussian per instance in the mini-batch\n",
    "        :param x: sentences [B, T] as token ids\n",
    "        :param seq_mask: indicates valid positions vs padding positions [B, T]\n",
    "        :param seq_len: the length of the sequences [B]\n",
    "        :return: Gaussian approximate posterior\n",
    "        \"\"\"\n",
    "        \n",
    "        embeddings = self.embedder(x).detach()\n",
    "        h, final_state = self.lstm(embeddings)\n",
    "        final_state = final_state[0]\n",
    "        if self.lstm.bidirectional:\n",
    "            final_state = torch.cat((final_state[0], final_state[1]), dim=-1)\n",
    "        else:\n",
    "            final_state = final_state[0]\n",
    "        \n",
    "        linear_output = torch.tanh(self.linear_layer(final_state))\n",
    "        return Normal(self.loc_model(linear_output), self.scale_model(linear_output))"
   ]
  },
  {
   "cell_type": "code",
   "execution_count": 13,
   "metadata": {
    "colab": {},
    "colab_type": "code",
    "id": "dc05nZtd3s9l"
   },
   "outputs": [],
   "source": [
    "# tests for inference model\n",
    "pad_idx = vocab.word_to_idx['<pad>']\n",
    "\n",
    "dummy_inference_model = InferenceModel(\n",
    "    vocab_size=vocab.size(),\n",
    "    embedder=nn.Embedding(vocab.size(), 64, padding_idx=pad_idx),\n",
    "    hidden_size=128, latent_size=16, pad_idx=pad_idx, bidirectional=True\n",
    ").to(device=device)\n",
    "dummy_batch_size = 32\n",
    "dummy_dataloader = SortingTextDataLoader(DataLoader(train_dataset, batch_size=dummy_batch_size))\n",
    "dummy_sentences = next(dummy_dataloader)\n",
    "\n",
    "x_in, _, seq_mask, seq_len = create_batch(dummy_sentences, vocab, device)\n",
    "\n",
    "q_z_given_x = dummy_inference_model.forward(x_in, seq_mask, seq_len)\n",
    "assert isinstance(q_z_given_x, Normal), \"inference model should return a Normal distribution\"\n",
    "assert q_z_given_x.loc.shape == q_z_given_x.scale.shape, \"loc and scale must be of the same size\"\n",
    "assert q_z_given_x.loc.shape == (dummy_batch_size, 16), \"model must produce [batch_size x latent_size] units.\"\n",
    "assert torch.all(q_z_given_x.scale >= 0), \"scale can't be negative\""
   ]
  },
  {
   "cell_type": "markdown",
   "metadata": {
    "colab_type": "text",
    "id": "EB7rVW7ZsBHP"
   },
   "source": [
    "Then we should implement the generative model, we call it BowmanLM after one of the [authors of the model](https://arxiv.org/abs/1511.06349)."
   ]
  },
  {
   "cell_type": "code",
   "execution_count": 14,
   "metadata": {
    "colab": {},
    "colab_type": "code",
    "id": "LXXS-JDbpRND"
   },
   "outputs": [],
   "source": [
    "class BowmanLM(nn.Module):\n",
    "    \n",
    "    def __init__(self, vocab_size, emb_size, hidden_size, latent_size,\n",
    "                 pad_idx, dropout=0.):\n",
    "        \"\"\"\n",
    "        :param vocab_size: size of the vocabulary of the language\n",
    "        :param emb_size: dimensionality of embeddings\n",
    "        :param hidden_size: dimensionality of recurrent cell\n",
    "        :param latent_size: this is D the dimensionality of the latent variable z\n",
    "        :param pad_idx: the id reserved to the -PAD- token\n",
    "        :param dropout: a dropout rate (you can ignore this for now)\n",
    "        \"\"\"\n",
    "        super(BowmanLM, self).__init__()\n",
    "        self.embedder = nn.Embedding(\n",
    "            vocab_size, emb_size, padding_idx=pad_idx\n",
    "        )        \n",
    "        self.lstm_cell = nn.LSTMCell(emb_size, hidden_size)\n",
    "        self.bridge = nn.Linear(latent_size, 2 * hidden_size)\n",
    "        self.projection = nn.Linear(hidden_size, vocab_size)\n",
    "        self.dropout = nn.Dropout(dropout)\n",
    "        \n",
    "        self.pad_idx = pad_idx        \n",
    "    \n",
    "    def init_hidden(self, z):\n",
    "        \"\"\"\n",
    "        Returns the hidden state of the LSTM initialized with a projection of a given z.\n",
    "        :param z: [B, D]\n",
    "        :returns: [B, D] hidden state, [B, D] cell state\n",
    "            \n",
    "        \"\"\"\n",
    "        joinded = torch.tanh(self.bridge(z))\n",
    "        h, c = torch.split(joinded, int(joinded.size(-1) / 2), -1)\n",
    "        return h, c\n",
    "    \n",
    "    def step(self, prev_x, z, hidden):\n",
    "        \"\"\"\n",
    "        Performs a single LSTM step for a given previous word and hidden state.\n",
    "        Returns the unnormalized log probabilities (logits) over the vocabulary for this time step. \n",
    "        :param prev_x: [B] id of the previous token\n",
    "        :param z: [B, D] latent variable\n",
    "        :param hidden:  hidden ([B, H] state, [B, H] cell)\n",
    "        \"\"\"\n",
    "        embeddings = self.embedder(prev_x)\n",
    "        h, c = self.lstm_cell(torch.squeeze(embeddings, dim=1), hidden)\n",
    "        scores = self.projection(self.dropout(h)).unsqueeze(1)\n",
    "        return scores, (h, c)\n",
    "    \n",
    "    def forward(self, x, z):\n",
    "        \"\"\"\n",
    "        Performs an entire forward pass given a sequence of words x and a z.\n",
    "        :param x: [B, T] token ids \n",
    "        :param z: [B, D] a latent sample\n",
    "        \"\"\"\n",
    "        hidden = self.init_hidden(z)\n",
    "        outputs = []\n",
    "        for t in range(x.size(1)):\n",
    "            prev_x = x[:, t].unsqueeze(-1)\n",
    "            scores, hidden = self.step(prev_x, z, hidden)\n",
    "            outputs.append(scores)\n",
    "        return torch.cat(outputs, dim=1)\n",
    "        \n",
    "    def loss(self, scores, targets, pz, qz, free_nats=0., evaluation=False):\n",
    "        \"\"\"\n",
    "        Computes the terms in the loss (negative ELBO) given the \n",
    "            scores (unnormalized log-probabilities), targets,\n",
    "        the prior distribution p(z), and the approximate posterior distribution q(z|x).\n",
    "        \n",
    "        If free_nats is nonzero it will clamp the KL divergence between the posterior\n",
    "        and prior to that value, preventing gradient propagation via the KL if it's\n",
    "        below that value. \n",
    "        \n",
    "        If evaluation is set to true, the loss will be summed instead\n",
    "        of averaged over the batch. \n",
    "        \n",
    "        Returns the reconstruction loss and the KL. \n",
    "        \n",
    "        The loss\n",
    "        can be computed from those as loss = rec_loss - KL.\n",
    "        \n",
    "        :returns: \n",
    "            negative log likelihood (scalar), KL (scalar)\n",
    "            (use mean for training mode and sum for evaluation mode)\n",
    "        \"\"\"\n",
    "        scores = scores.permute(0, 2, 1)\n",
    "        reconstruction_loss = F.cross_entropy(\n",
    "            scores,\n",
    "            targets, \n",
    "            ignore_index=self.pad_idx, \n",
    "            reduction=\"none\"\n",
    "        )\n",
    "        reconstruction_loss = reconstruction_loss.sum(dim=1)\n",
    "        \n",
    "        # Compute the KL divergence and clamp to at least the given amount of free nats.\n",
    "        kl = qz.kl(pz).sum(dim=1)\n",
    "        if free_nats:\n",
    "            kl = torch.clamp(kl, min=free_nats)\n",
    "        \n",
    "        # For evaluation return the sum of individual components, for\n",
    "        # training return the mean of those components.\n",
    "        if evaluation:\n",
    "            return reconstruction_loss.sum(), kl.sum()\n",
    "        else:\n",
    "            return reconstruction_loss.mean(), kl.mean()"
   ]
  },
  {
   "cell_type": "markdown",
   "metadata": {
    "colab_type": "text",
    "id": "53Aztjb5ScR2"
   },
   "source": [
    "The code below is used to assess the model and also investigate what it learned. We implemented it for you, so that you can focus on the VAE part. It's useful however to learn from this example: we do interesting things like computing perplexity and sampling novel sentences!"
   ]
  },
  {
   "cell_type": "markdown",
   "metadata": {
    "colab_type": "text",
    "id": "PLfa31jEScR7"
   },
   "source": [
    "# Evaluation metrics\n",
    "\n",
    "During training we'd like to keep track of some evaluation metrics on the validation data in order to keep track of how our model is doing and to perform early stopping. One simple metric we can compute is the ELBO on all the validation or test data using a single sample from the approximate posterior $q(z|x)$:"
   ]
  },
  {
   "cell_type": "code",
   "execution_count": 15,
   "metadata": {
    "colab": {},
    "colab_type": "code",
    "id": "URdX_JJ5ScR9"
   },
   "outputs": [],
   "source": [
    "def eval_elbo(model, inference_model, eval_dataset, vocab, device, batch_size=128):\n",
    "    \"\"\"\n",
    "    Computes a single sample estimate of the ELBO on a given dataset.\n",
    "    \"\"\"\n",
    "    dl = DataLoader(eval_dataset, batch_size=batch_size)\n",
    "    sorted_dl = SortingTextDataLoader(dl)\n",
    "    \n",
    "    # Make sure the model is in evaluation mode (i.e. disable dropout).\n",
    "    model.eval()\n",
    "            \n",
    "    total_rec_loss = 0.\n",
    "    total_KL = 0.\n",
    "    num_sentences = 0\n",
    "        \n",
    "    # We don't need to compute gradients for this.\n",
    "    with torch.no_grad():\n",
    "        for sentences in sorted_dl:    \n",
    "            x_in, x_out, seq_mask, seq_len = create_batch(sentences, vocab, device)\n",
    "            \n",
    "            # Infer the approximate posterior and construct the prior.\n",
    "            qz = inference_model(x_in, seq_mask, seq_len)\n",
    "            pz = Normal(torch.zeros_like(qz.mean()), \n",
    "                        torch.ones_like(qz.std()))\n",
    "            \n",
    "            # Compute the unnormalized probabilities using a single sample from the\n",
    "            # approximate posterior.\n",
    "            z = qz.sample()\n",
    "            scores = model(x_in, z)\n",
    "            \n",
    "            # Compute the reconstruction loss and KL divergence.\n",
    "            reconstruction_loss, KL = model.loss(scores, x_out, pz, qz,\n",
    "                                                 free_nats=0.,\n",
    "                                                 evaluation=True)\n",
    "            total_rec_loss += reconstruction_loss\n",
    "            total_KL += KL\n",
    "            num_sentences += x_in.size(0)\n",
    "\n",
    "    # Return the average reconstruction loss and KL.\n",
    "    avg_rec_loss = total_rec_loss / num_sentences\n",
    "    avg_KL = total_KL / num_sentences\n",
    "    return avg_rec_loss, avg_KL"
   ]
  },
  {
   "cell_type": "code",
   "execution_count": 16,
   "metadata": {
    "colab": {},
    "colab_type": "code",
    "id": "dNxOoesR4Hh5"
   },
   "outputs": [
    {
     "name": "stdout",
     "output_type": "stream",
     "text": [
      "tensor(201.2286, device='cuda:0') tensor(1.6992, device='cuda:0')\n"
     ]
    }
   ],
   "source": [
    "# test for your BowmanLM implementation with elbo. This may take a few seconds\n",
    "dummy_lm = BowmanLM(vocab.size(), emb_size=64, hidden_size=128, \n",
    "                        latent_size=16, pad_idx=pad_idx).to(device=device)\n",
    "\n",
    "!head -n 128 {val_file} > ./dummy_dataset\n",
    "dummy_data = TextDataset('./dummy_dataset')\n",
    "dummy_rec_loss, dummy_kl = eval_elbo(dummy_lm, dummy_inference_model,\n",
    "                                     dummy_data, vocab, device)\n",
    "print(dummy_rec_loss, dummy_kl)\n",
    "assert dummy_rec_loss.item() > 0 and dummy_kl.item() > 0"
   ]
  },
  {
   "cell_type": "markdown",
   "metadata": {
    "colab_type": "text",
    "id": "tGO7RBYgScR_"
   },
   "source": [
    "\n",
    "A common metric to evaluate language models is the perplexity per word. The perplexity per word for a dataset is defined as:\n",
    "\n",
    "\\begin{align}\n",
    "    \\text{ppl}(\\mathcal{D}) = \\exp\\left(-\\frac{1}{\\sum_{k=1}^{|\\mathcal D|} n^{(k)}} \\sum_{k=1}^{|\\mathcal{D}|} \\log P(x^{(k)})\\right) \n",
    "\\end{align}\n",
    "\n",
    "where $n^{(k)} = |x^{(k)}|$ is the number of tokens in a sentence and $P(x^{(k)})$ is the probability that our model assigns to the datapoint $x^{(k)}$. In order to compute $\\log P(x)$ for our model we need to evaluate the integral:\n",
    "\n",
    "\\begin{align}\n",
    "    P(x) = \\int P(x|z) p(z) dz\n",
    "\\end{align}\n",
    "\n",
    "As this is an integral  cannot be compute in closed-form, we have two options: we can use the earlier derived lower-bound on the log-likelihood, which will give us an upper-bound on the perplexity, or we can make an importance sampling estimate using our approximate posterior distribution. The importance sampling (IS) estimate can be done as:\n",
    "\n",
    "\\begin{align}\n",
    "\\hat P(x) &\\overset{\\text{IS}}{\\approx} \\frac{1}{S} \\sum_{s=1}^{S} \\frac{p(z^{(s)})p(x|z^{(s)})}{q(z^{(s)}|x)} & \\text{where }z^{(s)} \\sim q(z|x)\n",
    "\\end{align}\n",
    "\n",
    "where $S$ is the number of samples.\n",
    "\n",
    "Then our perplexity becomes:\n",
    "\\begin{align}\n",
    "    &\\frac{1}{\\sum_{k=1}^{|\\mathcal D|} n^{(k)}}  \\sum_{k=1}^{|\\mathcal D|} \\log p(x^{(k)}) \\\\\n",
    "    &\\approx \\frac{1}{\\sum_{k=1}^{|\\mathcal D|} n^{(k)}}  \\sum_{k=1}^{|\\mathcal D|} \\log \\frac{1}{S} \\sum_{s=1}^{S} \\frac{p(z^{(s)})p(x^{(k)}|z^{(s)})}{q(z^{(s)}|x^{(k)})} \\\\\n",
    "\\end{align}\n",
    "\n",
    "We define the function `eval_perplexity` below that implements this importance sampling estimate:"
   ]
  },
  {
   "cell_type": "code",
   "execution_count": 17,
   "metadata": {
    "colab": {},
    "colab_type": "code",
    "id": "VnaIidkwScSA"
   },
   "outputs": [],
   "source": [
    "def eval_perplexity(model, inference_model, eval_dataset, vocab, device, \n",
    "                    n_samples, batch_size=128):\n",
    "    \"\"\"\n",
    "    Estimates the per-word perplexity using importance sampling with the\n",
    "    given number of samples.\n",
    "    \"\"\"\n",
    "    \n",
    "    dl = DataLoader(eval_dataset, batch_size=batch_size)\n",
    "    sorted_dl = SortingTextDataLoader(dl)\n",
    "    \n",
    "    # Make sure the model is in evaluation mode (i.e. disable dropout).\n",
    "    model.eval()\n",
    "    \n",
    "    log_px = 0.\n",
    "    num_predictions = 0\n",
    "    num_sentences = 0\n",
    "     \n",
    "    # We don't need to compute gradients for this.\n",
    "    with torch.no_grad():\n",
    "        for sentences in sorted_dl:\n",
    "            x_in, x_out, seq_mask, seq_len = create_batch(sentences, vocab, device)\n",
    "            \n",
    "            # Infer the approximate posterior and construct the prior.\n",
    "            qz = inference_model(x_in, seq_mask, seq_len)\n",
    "            pz = Normal(torch.zeros_like(qz.mean()), \n",
    "                        torch.ones_like(qz.std()))\n",
    "\n",
    "            # Create an array to hold all samples for this batch.\n",
    "            batch_size = x_in.size(0)\n",
    "            log_px_samples = torch.zeros(n_samples, batch_size)\n",
    "            \n",
    "            # Sample log P(x) n_samples times.\n",
    "            for s in range(n_samples):\n",
    "                \n",
    "                # Sample a z^s from the posterior.\n",
    "                z = qz.sample()\n",
    "                \n",
    "                # Compute log P(x^k|z^s)\n",
    "                scores = model(x_in, z)\n",
    "                cond_log_prob = F.log_softmax(scores, dim=-1)\n",
    "                cond_log_prob = torch.gather(cond_log_prob, 2, x_out.unsqueeze(-1)).squeeze() # B x T\n",
    "                cond_log_prob = (cond_log_prob * seq_mask.type_as(cond_log_prob)).sum(dim=1) # B\n",
    "                \n",
    "                # Compute log p(z^s) and log q(z^s|x^k)\n",
    "                prior_log_prob = pz.log_pdf(z).sum(dim=1) # B\n",
    "                posterior_log_prob = qz.log_pdf(z).sum(dim=1) # B\n",
    "                \n",
    "                # Store the sample for log P(x^k) importance weighted with p(z^s)/q(z^s|x^k).\n",
    "                log_px_sample = cond_log_prob + prior_log_prob - posterior_log_prob\n",
    "                log_px_samples[s] = log_px_sample\n",
    "                \n",
    "            # Average over the number of samples and count the number of predictions made this batch.\n",
    "            log_px_batch = torch.logsumexp(log_px_samples, dim=0) - \\\n",
    "                    torch.log(torch.Tensor([n_samples]))\n",
    "            log_px += log_px_batch.sum()\n",
    "            num_predictions += seq_len.sum()\n",
    "            num_sentences += seq_len.size(0)\n",
    "\n",
    "    # Compute and return the perplexity per word.\n",
    "    perplexity = torch.exp(-log_px / num_predictions)\n",
    "    NLL = -log_px / num_sentences\n",
    "    return perplexity, NLL"
   ]
  },
  {
   "cell_type": "markdown",
   "metadata": {
    "colab_type": "text",
    "id": "IvoVmedYScSC"
   },
   "source": [
    "Lastly, we want to occasionally qualitatively see the performance of the model during training, by letting it reconstruct a given sentence from the latent space. This gives us an idea of whether the model is using the latent space to encode some semantics about the data. For this we use a deterministic greedy decoding algorithm, that chooses the word with maximum probability at every time step, and feeds that word into the next time step."
   ]
  },
  {
   "cell_type": "code",
   "execution_count": 18,
   "metadata": {
    "colab": {},
    "colab_type": "code",
    "id": "LDD5XF1GScSC"
   },
   "outputs": [],
   "source": [
    "def greedy_decode(model, z, vocab, max_len=50):\n",
    "    \"\"\"\n",
    "    Greedily decodes a sentence from a given z, by picking the word with\n",
    "    maximum probability at each time step.\n",
    "    \"\"\"\n",
    "    \n",
    "    # Disable dropout.\n",
    "    model.eval()\n",
    "    \n",
    "    # Don't compute gradients.\n",
    "    with torch.no_grad():\n",
    "        batch_size = z.size(0)\n",
    "        \n",
    "        # We feed the model the start-of-sentence symbol at the first time step.\n",
    "        prev_x = torch.ones(batch_size, 1, dtype=torch.long).fill_(vocab[SOS_TOKEN]).to(z.device)\n",
    "        \n",
    "        # Initialize the hidden state from z.\n",
    "        hidden = model.init_hidden(z)\n",
    "\n",
    "        predictions = []    \n",
    "        for t in range(max_len):\n",
    "            scores, hidden = model.step(prev_x, z, hidden)\n",
    "            \n",
    "            # Choose the argmax of the unnnormalized probabilities as the\n",
    "            # prediction for this time step.\n",
    "            prediction = torch.argmax(scores, dim=-1)\n",
    "            predictions.append(prediction)\n",
    "            \n",
    "            prev_x = prediction.view(batch_size, 1)\n",
    "            \n",
    "        return torch.cat(predictions, dim=1)"
   ]
  },
  {
   "cell_type": "code",
   "execution_count": 19,
   "metadata": {},
   "outputs": [],
   "source": [
    "# Define the model hyperparameters.\n",
    "emb_size = 256\n",
    "hidden_size = 256 \n",
    "latent_size = 16\n",
    "bidirectional_encoder = True\n",
    "free_nats = 5.\n",
    "annealing_steps = 11400\n",
    "dropout = 0.6\n",
    "word_dropout = 0.75\n",
    "batch_size = 64\n",
    "learning_rate = 0.001\n",
    "num_epochs = 20\n",
    "n_importance_samples = 3 # 50\n",
    "\n",
    "# Create the training data loader.\n",
    "dl = DataLoader(train_dataset, batch_size=batch_size, shuffle=True)\n",
    "sorted_dl = SortingTextDataLoader(dl)\n",
    "\n",
    "# Create the generative model.\n",
    "model = BowmanLM(vocab_size=vocab.size(), \n",
    "                 emb_size=emb_size, \n",
    "                 hidden_size=hidden_size, \n",
    "                 latent_size=latent_size, \n",
    "                 pad_idx=vocab[PAD_TOKEN],\n",
    "                 dropout=dropout)\n",
    "model = model.to(device)"
   ]
  },
  {
   "cell_type": "markdown",
   "metadata": {
    "colab_type": "text",
    "id": "GERuGgChScSE"
   },
   "source": [
    "# Training\n",
    "\n",
    "Now it's time to train the model. We use early stopping on the validation perplexity for model selection."
   ]
  },
  {
   "cell_type": "code",
   "execution_count": 20,
   "metadata": {
    "colab": {},
    "colab_type": "code",
    "id": "XH6ocHxaScSF",
    "scrolled": true
   },
   "outputs": [
    {
     "name": "stdout",
     "output_type": "stream",
     "text": [
      "(1) step 0: training ELBO (KL) = -193.37 (5.00) -- KL weight = 0.00 -- validation ELBO (KL) = -197.22 (1.95)\n",
      "(1) step 100: training ELBO (KL) = -134.38 (16.82) -- KL weight = 0.01 -- validation ELBO (KL) = -125.94 (8.64)\n",
      "(1) step 200: training ELBO (KL) = -129.68 (5.53) -- KL weight = 0.02 -- validation ELBO (KL) = -126.00 (4.93)\n",
      "(1) step 300: training ELBO (KL) = -127.39 (5.09) -- KL weight = 0.03 -- validation ELBO (KL) = -122.83 (5.00)\n",
      "(1) step 400: training ELBO (KL) = -124.32 (5.29) -- KL weight = 0.04 -- validation ELBO (KL) = -120.21 (5.17)\n",
      "(1) step 500: training ELBO (KL) = -121.29 (5.25) -- KL weight = 0.04 -- validation ELBO (KL) = -118.11 (5.08)\n",
      "Finished epoch 1\n",
      "Evaluation epoch 1:\n",
      " - validation perplexity: 912.07\n",
      " - validation NLL: 126.62\n",
      " - validation ELBO (KL) = -117.79 (4.94)\n",
      "-- Original sentence: \"Mr. Oberstar and other committee members repeatedly stressed that the legislation was n't a response to any particular market situation\"\n",
      "-- Model reconstruction: \"The company 's the company 's the company 's the company 's the company 's the company 's\"\n",
      "(2) step 600: training ELBO (KL) = -118.89 (5.27) -- KL weight = 0.05 -- validation ELBO (KL) = -116.17 (5.23)\n",
      "(2) step 700: training ELBO (KL) = -117.64 (5.26) -- KL weight = 0.06 -- validation ELBO (KL) = -114.95 (4.99)\n",
      "(2) step 800: training ELBO (KL) = -115.06 (5.26) -- KL weight = 0.07 -- validation ELBO (KL) = -113.48 (5.19)\n",
      "(2) step 900: training ELBO (KL) = -114.50 (5.18) -- KL weight = 0.08 -- validation ELBO (KL) = -112.49 (5.00)\n",
      "(2) step 1000: training ELBO (KL) = -113.53 (5.17) -- KL weight = 0.09 -- validation ELBO (KL) = -111.36 (5.00)\n",
      "Finished epoch 2\n",
      "Evaluation epoch 2:\n",
      " - validation perplexity: 632.53\n",
      " - validation NLL: 119.82\n",
      " - validation ELBO (KL) = -111.13 (4.80)\n",
      "-- Original sentence: \"Non-interest expense grew only 4 % in the period\"\n",
      "-- Model reconstruction: \"Other of the company 's stock market\"\n",
      "(3) step 1100: training ELBO (KL) = -111.98 (5.12) -- KL weight = 0.10 -- validation ELBO (KL) = -110.56 (4.91)\n",
      "(3) step 1200: training ELBO (KL) = -109.97 (5.12) -- KL weight = 0.11 -- validation ELBO (KL) = -110.03 (4.78)\n",
      "(3) step 1300: training ELBO (KL) = -109.24 (5.08) -- KL weight = 0.11 -- validation ELBO (KL) = -109.26 (4.82)\n",
      "(3) step 1400: training ELBO (KL) = -109.45 (5.07) -- KL weight = 0.12 -- validation ELBO (KL) = -108.40 (4.85)\n",
      "(3) step 1500: training ELBO (KL) = -108.81 (5.06) -- KL weight = 0.13 -- validation ELBO (KL) = -107.90 (4.80)\n",
      "Finished epoch 3\n",
      "Evaluation epoch 3:\n",
      " - validation perplexity: 521.37\n",
      " - validation NLL: 116.23\n",
      " - validation ELBO (KL) = -107.44 (4.77)\n",
      "-- Original sentence: \"DIG is a unit of DIG Holding Corp. a unit of Rose Partners L.P\"\n",
      "-- Model reconstruction: \"Sales rose to yield % from the year-earlier period\"\n",
      "(4) step 1600: training ELBO (KL) = -107.08 (5.05) -- KL weight = 0.14 -- validation ELBO (KL) = -107.26 (4.81)\n",
      "(4) step 1700: training ELBO (KL) = -105.23 (5.04) -- KL weight = 0.15 -- validation ELBO (KL) = -106.86 (4.74)\n",
      "(4) step 1800: training ELBO (KL) = -105.37 (5.03) -- KL weight = 0.16 -- validation ELBO (KL) = -106.45 (4.82)\n",
      "(4) step 1900: training ELBO (KL) = -103.36 (5.02) -- KL weight = 0.17 -- validation ELBO (KL) = -105.97 (4.77)\n",
      "(4) step 2000: training ELBO (KL) = -104.38 (5.02) -- KL weight = 0.18 -- validation ELBO (KL) = -105.60 (4.70)\n",
      "(4) step 2100: training ELBO (KL) = -103.37 (5.02) -- KL weight = 0.18 -- validation ELBO (KL) = -105.24 (4.69)\n",
      "Finished epoch 4\n",
      "Evaluation epoch 4:\n",
      " - validation perplexity: 458.97\n",
      " - validation NLL: 113.86\n",
      " - validation ELBO (KL) = -105.21 (4.65)\n",
      "-- Original sentence: \"The offer which also includes common and preferred stock purchase rights was to expire last night at midnight\"\n",
      "-- Model reconstruction: \"The company said it is a lot of the company 's largest of the company 's largest company\"\n",
      "(5) step 2200: training ELBO (KL) = -100.72 (5.02) -- KL weight = 0.19 -- validation ELBO (KL) = -105.09 (4.73)\n",
      "(5) step 2300: training ELBO (KL) = -99.60 (5.01) -- KL weight = 0.20 -- validation ELBO (KL) = -104.73 (4.74)\n",
      "(5) step 2400: training ELBO (KL) = -100.40 (5.01) -- KL weight = 0.21 -- validation ELBO (KL) = -104.46 (4.64)\n",
      "(5) step 2500: training ELBO (KL) = -100.85 (5.01) -- KL weight = 0.22 -- validation ELBO (KL) = -104.13 (4.60)\n",
      "(5) step 2600: training ELBO (KL) = -99.95 (5.01) -- KL weight = 0.23 -- validation ELBO (KL) = -103.88 (4.62)\n",
      "Finished epoch 5\n",
      "Evaluation epoch 5:\n",
      " - validation perplexity: 426.50\n",
      " - validation NLL: 112.50\n",
      " - validation ELBO (KL) = -103.70 (4.72)\n",
      "-- Original sentence: \"Enron said each unit will be priced in the 19-to-$21 range and will represent about 80 % of the partnership equity\"\n",
      "-- Model reconstruction: \"Other companies are n't expected to be a lot of the company\"\n",
      "(6) step 2700: training ELBO (KL) = -98.94 (5.01) -- KL weight = 0.24 -- validation ELBO (KL) = -104.09 (4.60)\n",
      "(6) step 2800: training ELBO (KL) = -97.43 (5.01) -- KL weight = 0.25 -- validation ELBO (KL) = -103.51 (4.66)\n",
      "(6) step 2900: training ELBO (KL) = -97.23 (5.01) -- KL weight = 0.25 -- validation ELBO (KL) = -103.36 (4.70)\n",
      "(6) step 3000: training ELBO (KL) = -97.03 (5.01) -- KL weight = 0.26 -- validation ELBO (KL) = -103.38 (4.59)\n",
      "(6) step 3100: training ELBO (KL) = -97.09 (5.01) -- KL weight = 0.27 -- validation ELBO (KL) = -103.19 (4.66)\n",
      "Finished epoch 6\n",
      "Evaluation epoch 6:\n",
      " - validation perplexity: 408.12\n",
      " - validation NLL: 111.68\n",
      " - validation ELBO (KL) = -102.83 (4.65)\n",
      "-- Original sentence: \"But Mr. Sim has set a fresh target of 50 a share by the end of\"\n",
      "-- Model reconstruction: \"But the company 's first time the company 's a spokesman said\"\n",
      "(7) step 3200: training ELBO (KL) = -95.14 (5.01) -- KL weight = 0.28 -- validation ELBO (KL) = -103.19 (4.65)\n",
      "(7) step 3300: training ELBO (KL) = -93.45 (5.01) -- KL weight = 0.29 -- validation ELBO (KL) = -103.21 (4.63)\n",
      "(7) step 3400: training ELBO (KL) = -93.81 (5.01) -- KL weight = 0.30 -- validation ELBO (KL) = -103.14 (4.62)\n",
      "(7) step 3500: training ELBO (KL) = -93.77 (5.01) -- KL weight = 0.31 -- validation ELBO (KL) = -102.82 (4.60)\n",
      "(7) step 3600: training ELBO (KL) = -95.22 (5.01) -- KL weight = 0.32 -- validation ELBO (KL) = -102.75 (4.68)\n",
      "Finished epoch 7\n",
      "Evaluation epoch 7:\n",
      " - validation perplexity: 400.19\n",
      " - validation NLL: 111.32\n",
      " - validation ELBO (KL) = -102.58 (4.65)\n",
      "-- Original sentence: \"Both of the New York-based companies print stock certificates and currency\"\n",
      "-- Model reconstruction: \"Sales rose to 2.9 % from the previous year\"\n",
      "(8) step 3700: training ELBO (KL) = -94.09 (5.01) -- KL weight = 0.32 -- validation ELBO (KL) = -102.75 (4.59)\n",
      "(8) step 3800: training ELBO (KL) = -90.88 (5.01) -- KL weight = 0.33 -- validation ELBO (KL) = -102.70 (4.61)\n",
      "(8) step 3900: training ELBO (KL) = -91.56 (5.01) -- KL weight = 0.34 -- validation ELBO (KL) = -102.66 (4.61)\n",
      "(8) step 4000: training ELBO (KL) = -91.00 (5.01) -- KL weight = 0.35 -- validation ELBO (KL) = -102.31 (4.74)\n",
      "(8) step 4100: training ELBO (KL) = -91.49 (5.01) -- KL weight = 0.36 -- validation ELBO (KL) = -102.55 (4.69)\n",
      "(8) step 4200: training ELBO (KL) = -92.67 (5.01) -- KL weight = 0.37 -- validation ELBO (KL) = -102.10 (4.69)\n",
      "Finished epoch 8\n",
      "Evaluation epoch 8:\n",
      " - validation perplexity: 396.60\n",
      " - validation NLL: 111.15\n",
      " - validation ELBO (KL) = -102.34 (4.62)\n",
      "-- Original sentence: \"In the first nine months NCNB 's net income climbed 65 % to 310.9 million or 3.30 a share from 188.2 million or 2.22 a share a year earlier\"\n",
      "-- Model reconstruction: \"In the past two years the company 's stock market is n't a good\"\n",
      "(9) step 4300: training ELBO (KL) = -88.09 (5.01) -- KL weight = 0.38 -- validation ELBO (KL) = -102.64 (4.61)\n",
      "(9) step 4400: training ELBO (KL) = -88.33 (5.00) -- KL weight = 0.39 -- validation ELBO (KL) = -102.26 (4.71)\n",
      "(9) step 4500: training ELBO (KL) = -88.94 (5.00) -- KL weight = 0.39 -- validation ELBO (KL) = -102.36 (4.63)\n",
      "(9) step 4600: training ELBO (KL) = -89.29 (5.00) -- KL weight = 0.40 -- validation ELBO (KL) = -102.40 (4.69)\n",
      "(9) step 4700: training ELBO (KL) = -90.07 (5.00) -- KL weight = 0.41 -- validation ELBO (KL) = -102.10 (4.57)\n",
      "Finished epoch 9\n",
      "Evaluation epoch 9:\n",
      " - validation perplexity: 396.41\n",
      " - validation NLL: 111.14\n",
      " - validation ELBO (KL) = -102.26 (4.66)\n",
      "-- Original sentence: \"With nowhere else to go sellers and particularly program traders focused all selling on the New York Stock Exchange\"\n",
      "-- Model reconstruction: \"Many of the U.S. and other things are n't expected to be a good idea\"\n"
     ]
    },
    {
     "name": "stdout",
     "output_type": "stream",
     "text": [
      "(10) step 4800: training ELBO (KL) = -86.84 (5.00) -- KL weight = 0.42 -- validation ELBO (KL) = -102.31 (4.70)\n",
      "(10) step 4900: training ELBO (KL) = -86.09 (5.00) -- KL weight = 0.43 -- validation ELBO (KL) = -102.41 (4.68)\n",
      "(10) step 5000: training ELBO (KL) = -87.02 (5.00) -- KL weight = 0.44 -- validation ELBO (KL) = -102.35 (4.67)\n",
      "(10) step 5100: training ELBO (KL) = -88.26 (5.00) -- KL weight = 0.45 -- validation ELBO (KL) = -102.37 (4.73)\n",
      "(10) step 5200: training ELBO (KL) = -86.57 (5.00) -- KL weight = 0.46 -- validation ELBO (KL) = -102.36 (4.72)\n",
      "Finished epoch 10\n",
      "Evaluation epoch 10:\n",
      " - validation perplexity: 397.35\n",
      " - validation NLL: 111.19\n",
      " - validation ELBO (KL) = -102.36 (4.61)\n",
      "-- Original sentence: \"Last year 's earnings of 1.3 million including 815,000 from a restructuring gain were far below the year-earlier 8.4 million\"\n",
      "-- Model reconstruction: \"By contrast the company 's stock market plunge in the U.S. and the company 's stock market plunge\"\n",
      "(11) step 5300: training ELBO (KL) = -85.55 (5.00) -- KL weight = 0.46 -- validation ELBO (KL) = -102.48 (4.72)\n",
      "(11) step 5400: training ELBO (KL) = -83.08 (5.00) -- KL weight = 0.47 -- validation ELBO (KL) = -102.66 (4.71)\n",
      "(11) step 5500: training ELBO (KL) = -83.86 (5.00) -- KL weight = 0.48 -- validation ELBO (KL) = -102.79 (4.71)\n",
      "(11) step 5600: training ELBO (KL) = -84.30 (5.00) -- KL weight = 0.49 -- validation ELBO (KL) = -102.62 (4.73)\n",
      "(11) step 5700: training ELBO (KL) = -85.75 (5.00) -- KL weight = 0.50 -- validation ELBO (KL) = -102.57 (4.73)\n",
      "Finished epoch 11\n",
      "Evaluation epoch 11:\n",
      " - validation perplexity: 406.37\n",
      " - validation NLL: 111.60\n",
      " - validation ELBO (KL) = -102.50 (4.75)\n",
      "-- Original sentence: \"Profit from trading for own account dropped the securities firm said\"\n",
      "-- Model reconstruction: \"Volume was a moderate million ounces\"\n",
      "(12) step 5800: training ELBO (KL) = -85.49 (5.00) -- KL weight = 0.51 -- validation ELBO (KL) = -102.76 (4.75)\n",
      "(12) step 5900: training ELBO (KL) = -82.15 (5.00) -- KL weight = 0.52 -- validation ELBO (KL) = -102.89 (4.73)\n",
      "(12) step 6000: training ELBO (KL) = -82.97 (5.00) -- KL weight = 0.53 -- validation ELBO (KL) = -103.05 (4.72)\n",
      "(12) step 6100: training ELBO (KL) = -82.33 (5.00) -- KL weight = 0.54 -- validation ELBO (KL) = -103.10 (4.77)\n",
      "(12) step 6200: training ELBO (KL) = -82.94 (5.00) -- KL weight = 0.54 -- validation ELBO (KL) = -102.77 (4.74)\n",
      "(12) step 6300: training ELBO (KL) = -82.87 (5.00) -- KL weight = 0.55 -- validation ELBO (KL) = -103.03 (4.72)\n",
      "Finished epoch 12\n",
      "Evaluation epoch 12:\n",
      " - validation perplexity: 406.23\n",
      " - validation NLL: 111.60\n",
      " - validation ELBO (KL) = -102.56 (4.71)\n",
      "-- Original sentence: \"Instead the rally only paused for about 25 minutes and then steamed forward as institutions resumed buying\"\n",
      "-- Model reconstruction: \"Both the company 's stock market closed at 2.625 down 12.5 cents\"\n",
      "(13) step 6400: training ELBO (KL) = -80.38 (5.00) -- KL weight = 0.56 -- validation ELBO (KL) = -103.39 (4.75)\n",
      "(13) step 6500: training ELBO (KL) = -80.50 (5.00) -- KL weight = 0.57 -- validation ELBO (KL) = -103.34 (4.70)\n",
      "(13) step 6600: training ELBO (KL) = -80.65 (5.00) -- KL weight = 0.58 -- validation ELBO (KL) = -103.33 (4.74)\n",
      "(13) step 6700: training ELBO (KL) = -81.38 (5.00) -- KL weight = 0.59 -- validation ELBO (KL) = -103.25 (4.75)\n",
      "(13) step 6800: training ELBO (KL) = -80.95 (5.00) -- KL weight = 0.60 -- validation ELBO (KL) = -103.06 (4.75)\n",
      "Finished epoch 13\n",
      "Evaluation epoch 13:\n",
      " - validation perplexity: 418.58\n",
      " - validation NLL: 112.15\n",
      " - validation ELBO (KL) = -103.06 (4.76)\n",
      "-- Original sentence: \"George M. Salem analyst at Prudential-Bache Securities Inc. called the results mildly disappointing\"\n",
      "-- Model reconstruction: \"General Dynamics Corp. said it will be sold through underwriters led by Salomon Brothers Inc. and Salomon Brothers Inc\"\n",
      "(14) step 6900: training ELBO (KL) = -78.87 (5.00) -- KL weight = 0.61 -- validation ELBO (KL) = -103.80 (4.72)\n",
      "(14) step 7000: training ELBO (KL) = -78.06 (5.00) -- KL weight = 0.61 -- validation ELBO (KL) = -103.50 (4.76)\n",
      "(14) step 7100: training ELBO (KL) = -79.54 (5.00) -- KL weight = 0.62 -- validation ELBO (KL) = -103.71 (4.71)\n",
      "(14) step 7200: training ELBO (KL) = -79.51 (5.00) -- KL weight = 0.63 -- validation ELBO (KL) = -103.79 (4.74)\n",
      "(14) step 7300: training ELBO (KL) = -79.99 (5.00) -- KL weight = 0.64 -- validation ELBO (KL) = -103.67 (4.73)\n",
      "Finished epoch 14\n",
      "Evaluation epoch 14:\n",
      " - validation perplexity: 428.33\n",
      " - validation NLL: 112.58\n",
      " - validation ELBO (KL) = -103.55 (4.71)\n",
      "-- Original sentence: \"A harder sell says John Kosar the firm 's president would detract from the profession\"\n",
      "-- Model reconstruction: \"A spokesman for the company said it will be a new post of the company 's office\"\n",
      "(15) step 7400: training ELBO (KL) = -78.61 (5.00) -- KL weight = 0.65 -- validation ELBO (KL) = -104.24 (4.75)\n",
      "(15) step 7500: training ELBO (KL) = -75.81 (5.00) -- KL weight = 0.66 -- validation ELBO (KL) = -104.13 (4.76)\n",
      "(15) step 7600: training ELBO (KL) = -77.60 (5.00) -- KL weight = 0.67 -- validation ELBO (KL) = -104.09 (4.76)\n",
      "(15) step 7700: training ELBO (KL) = -77.67 (5.00) -- KL weight = 0.68 -- validation ELBO (KL) = -104.21 (4.74)\n",
      "(15) step 7800: training ELBO (KL) = -78.74 (5.00) -- KL weight = 0.68 -- validation ELBO (KL) = -104.01 (4.72)\n",
      "Finished epoch 15\n",
      "Evaluation epoch 15:\n",
      " - validation perplexity: 446.22\n",
      " - validation NLL: 113.34\n",
      " - validation ELBO (KL) = -104.17 (4.75)\n",
      "-- Original sentence: \"The rationale is that an interruption of trading will allow investors to reconsider strategies calm sellers and lead buyers to enter the market at indicated new price levels\"\n",
      "-- Model reconstruction: \"The new company has been a minor player in the U.S.\"\n",
      "(16) step 7900: training ELBO (KL) = -78.50 (5.00) -- KL weight = 0.69 -- validation ELBO (KL) = -104.46 (4.75)\n",
      "(16) step 8000: training ELBO (KL) = -74.44 (5.00) -- KL weight = 0.70 -- validation ELBO (KL) = -104.93 (4.71)\n",
      "(16) step 8100: training ELBO (KL) = -75.35 (5.00) -- KL weight = 0.71 -- validation ELBO (KL) = -104.43 (4.76)\n",
      "(16) step 8200: training ELBO (KL) = -76.16 (5.00) -- KL weight = 0.72 -- validation ELBO (KL) = -104.51 (4.73)\n",
      "(16) step 8300: training ELBO (KL) = -77.46 (5.00) -- KL weight = 0.73 -- validation ELBO (KL) = -104.53 (4.71)\n",
      "(16) step 8400: training ELBO (KL) = -76.82 (5.00) -- KL weight = 0.74 -- validation ELBO (KL) = -104.38 (4.74)\n",
      "Finished epoch 16\n",
      "Evaluation epoch 16:\n",
      " - validation perplexity: 454.31\n",
      " - validation NLL: 113.67\n",
      " - validation ELBO (KL) = -104.51 (4.73)\n",
      "-- Original sentence: \"As the London market rallied some wondered whether the weekend of worrying and jitters had been worth it\"\n",
      "-- Model reconstruction: \"As a result of the company 's new product line is a major importer of the company 's board\"\n",
      "(17) step 8500: training ELBO (KL) = -74.26 (5.00) -- KL weight = 0.75 -- validation ELBO (KL) = -105.07 (4.73)\n",
      "(17) step 8600: training ELBO (KL) = -74.10 (5.00) -- KL weight = 0.75 -- validation ELBO (KL) = -105.08 (4.79)\n",
      "(17) step 8700: training ELBO (KL) = -73.94 (5.00) -- KL weight = 0.76 -- validation ELBO (KL) = -104.90 (4.78)\n",
      "(17) step 8800: training ELBO (KL) = -75.84 (5.00) -- KL weight = 0.77 -- validation ELBO (KL) = -105.20 (4.79)\n",
      "(17) step 8900: training ELBO (KL) = -75.36 (5.00) -- KL weight = 0.78 -- validation ELBO (KL) = -105.13 (4.71)\n",
      "Finished epoch 17\n",
      "Evaluation epoch 17:\n",
      " - validation perplexity: 471.00\n",
      " - validation NLL: 114.34\n",
      " - validation ELBO (KL) = -105.21 (4.72)\n",
      "-- Original sentence: \"The Tokyo Stock Exchange index for the second section fell 100.96 or 2.7 % to 3655.40\"\n",
      "-- Model reconstruction: \"The U.S. government has been a major importer of the company 's office\"\n",
      "(18) step 9000: training ELBO (KL) = -73.50 (5.00) -- KL weight = 0.79 -- validation ELBO (KL) = -105.72 (4.73)\n",
      "(18) step 9100: training ELBO (KL) = -73.06 (5.00) -- KL weight = 0.80 -- validation ELBO (KL) = -105.74 (4.73)\n",
      "(18) step 9200: training ELBO (KL) = -73.42 (5.00) -- KL weight = 0.81 -- validation ELBO (KL) = -105.35 (4.75)\n",
      "(18) step 9300: training ELBO (KL) = -73.97 (5.00) -- KL weight = 0.82 -- validation ELBO (KL) = -105.53 (4.75)\n",
      "(18) step 9400: training ELBO (KL) = -73.47 (5.00) -- KL weight = 0.82 -- validation ELBO (KL) = -105.73 (4.78)\n"
     ]
    },
    {
     "name": "stdout",
     "output_type": "stream",
     "text": [
      "Finished epoch 18\n",
      "Evaluation epoch 18:\n",
      " - validation perplexity: 487.52\n",
      " - validation NLL: 114.98\n",
      " - validation ELBO (KL) = -105.79 (4.76)\n",
      "-- Original sentence: \"Guber-Peters 's net income in the latest quarter compared with a net loss of 6.9 million or 62 cents a share in the year-earlier period\"\n",
      "-- Model reconstruction: \"General Dynamics Corp. said it agreed to sell the company 's largest shareholder approval by the end of the year\"\n",
      "(19) step 9500: training ELBO (KL) = -73.09 (5.00) -- KL weight = 0.83 -- validation ELBO (KL) = -106.04 (4.76)\n",
      "(19) step 9600: training ELBO (KL) = -70.87 (5.00) -- KL weight = 0.84 -- validation ELBO (KL) = -106.20 (4.78)\n",
      "(19) step 9700: training ELBO (KL) = -71.61 (5.00) -- KL weight = 0.85 -- validation ELBO (KL) = -106.41 (4.76)\n",
      "(19) step 9800: training ELBO (KL) = -72.73 (5.00) -- KL weight = 0.86 -- validation ELBO (KL) = -106.37 (4.75)\n",
      "(19) step 9900: training ELBO (KL) = -73.29 (5.00) -- KL weight = 0.87 -- validation ELBO (KL) = -106.14 (4.72)\n",
      "Finished epoch 19\n",
      "Evaluation epoch 19:\n",
      " - validation perplexity: 506.12\n",
      " - validation NLL: 115.68\n",
      " - validation ELBO (KL) = -106.48 (4.74)\n",
      "-- Original sentence: \"These high-yielding loans in effect replaced some low-yielding assets such as inter-bank loans which were allowed to decrease\"\n",
      "-- Model reconstruction: \"Last year the company 's net income rose to 1.11 billion from 4.07 billion\"\n",
      "(20) step 10000: training ELBO (KL) = -73.19 (5.00) -- KL weight = 0.88 -- validation ELBO (KL) = -106.36 (4.72)\n",
      "(20) step 10100: training ELBO (KL) = -70.65 (5.00) -- KL weight = 0.89 -- validation ELBO (KL) = -106.74 (4.75)\n",
      "(20) step 10200: training ELBO (KL) = -70.43 (5.00) -- KL weight = 0.89 -- validation ELBO (KL) = -106.70 (4.76)\n",
      "(20) step 10300: training ELBO (KL) = -70.60 (5.00) -- KL weight = 0.90 -- validation ELBO (KL) = -106.62 (4.71)\n",
      "(20) step 10400: training ELBO (KL) = -71.10 (5.00) -- KL weight = 0.91 -- validation ELBO (KL) = -106.76 (4.75)\n",
      "(20) step 10500: training ELBO (KL) = -72.58 (5.00) -- KL weight = 0.92 -- validation ELBO (KL) = -106.82 (4.77)\n",
      "Finished epoch 20\n",
      "Evaluation epoch 20:\n",
      " - validation perplexity: 516.02\n",
      " - validation NLL: 116.04\n",
      " - validation ELBO (KL) = -106.82 (4.74)\n",
      "-- Original sentence: \"Brokers said that as the news spread that Wall Street was moving up traders who had called to place sell orders changed line in mid-conversation ordering buys instead\"\n",
      "-- Model reconstruction: \"THE CHECKOFF Fiery ambition\"\n"
     ]
    }
   ],
   "source": [
    "from itertools import chain\n",
    "\n",
    "# Define the model hyperparameters.\n",
    "emb_size = 256\n",
    "hidden_size = 256 \n",
    "latent_size = 16\n",
    "bidirectional_encoder = True\n",
    "free_nats = 5.\n",
    "annealing_steps = 11400\n",
    "dropout = 0.6\n",
    "word_dropout = 0.75\n",
    "batch_size = 64\n",
    "learning_rate = 0.001\n",
    "num_epochs = 20\n",
    "n_importance_samples = 3 # 50\n",
    "\n",
    "# Create the training data loader.\n",
    "dl = DataLoader(train_dataset, batch_size=batch_size, shuffle=True)\n",
    "sorted_dl = SortingTextDataLoader(dl)\n",
    "\n",
    "# Create the generative model.\n",
    "model = BowmanLM(vocab_size=vocab.size(), \n",
    "                 emb_size=emb_size, \n",
    "                 hidden_size=hidden_size, \n",
    "                 latent_size=latent_size, \n",
    "                 pad_idx=vocab[PAD_TOKEN],\n",
    "                 dropout=dropout)\n",
    "model = model.to(device)\n",
    "\n",
    "# Create the inference model.\n",
    "inference_model = InferenceModel(vocab_size=vocab.size(),\n",
    "                                 embedder=model.embedder,\n",
    "                                 hidden_size=hidden_size,\n",
    "                                 latent_size=latent_size,\n",
    "                                 pad_idx=vocab[PAD_TOKEN],\n",
    "                                 bidirectional=bidirectional_encoder)\n",
    "inference_model = inference_model.to(device)\n",
    "\n",
    "# Create the optimizer.\n",
    "optimizer = optim.Adam(chain(model.parameters(), inference_model.parameters()), lr=learning_rate)\n",
    "\n",
    "# Save the best model (early stopping).\n",
    "best_model = \"./best_model.pt\"\n",
    "best_val_ppl = float(\"inf\")\n",
    "best_epoch = 0\n",
    "\n",
    "# Keep track of some statistics to plot later.\n",
    "train_ELBOs = []\n",
    "train_KLs = []\n",
    "val_ELBOs = []\n",
    "val_KLs = []\n",
    "val_perplexities = []\n",
    "val_NLLs = []\n",
    "\n",
    "step = 0\n",
    "training_ELBO = 0.\n",
    "training_KL = 0.\n",
    "num_batches = 0\n",
    "for epoch_num in range(1, num_epochs+1):    \n",
    "    for sentences in sorted_dl:\n",
    "\n",
    "        # Make sure the model is in training mode (for dropout).\n",
    "        model.train()\n",
    "\n",
    "        # Transform the sentences to input, output, seq_len, seq_mask batches.\n",
    "        x_in, x_out, seq_mask, seq_len = create_batch(sentences, vocab, device,\n",
    "                                                      word_dropout=word_dropout)\n",
    "\n",
    "        # Compute the multiplier for the KL term if we do annealing.\n",
    "        if annealing_steps > 0:\n",
    "            KL_weight = min(1., (1.0 / annealing_steps) * step)\n",
    "        else:\n",
    "            KL_weight = 1.\n",
    "        \n",
    "        # Do a forward pass through the model and compute the training loss. We use\n",
    "        # a reparameterized sample from the approximate posterior during training.\n",
    "        qz = inference_model(x_in, seq_mask, seq_len)\n",
    "        pz = Normal(torch.zeros_like(qz.mean()), \n",
    "                    torch.ones_like(qz.std()))\n",
    "        z = qz.sample()\n",
    "        scores = model(x_in, z)\n",
    "        rec_loss, KL = model.loss(scores, x_out, pz, qz, free_nats=free_nats)\n",
    "        loss = rec_loss + KL_weight * KL\n",
    "\n",
    "        # Backpropagate and update the model weights.\n",
    "        loss.backward()\n",
    "        optimizer.step()\n",
    "        optimizer.zero_grad()\n",
    "\n",
    "        # Update some statistics to track for the training loss.\n",
    "        training_ELBO += -(rec_loss - KL)\n",
    "        training_KL += KL\n",
    "        num_batches += 1\n",
    "        \n",
    "        # Every 100 steps we evaluate the model and report progress.\n",
    "        if step % 100 == 0:\n",
    "            val_rec_loss, val_KL = eval_elbo(model, inference_model, val_dataset, vocab, device)\n",
    "            val_ELBO = -(val_rec_loss - val_KL)\n",
    "            print(\"(%d) step %d: training ELBO (KL) = %.2f (%.2f) --\"\n",
    "                  \" KL weight = %.2f --\"\n",
    "                  \" validation ELBO (KL) = %.2f (%.2f)\" % \n",
    "                  (epoch_num, step, training_ELBO/num_batches, \n",
    "                   training_KL/num_batches, KL_weight, val_ELBO, val_KL))\n",
    "            \n",
    "            # Update some statistics for plotting later.\n",
    "            train_ELBOs.append((step, (training_ELBO/num_batches).item()))\n",
    "            train_KLs.append((step, (training_KL/num_batches).item()))\n",
    "            val_ELBOs.append((step, val_ELBO.item()))\n",
    "            val_KLs.append((step, val_KL.item()))\n",
    "            \n",
    "            # Reset the training statistics.\n",
    "            training_ELBO = 0.\n",
    "            training_KL = 0.\n",
    "            num_batches = 0\n",
    "            \n",
    "        step += 1\n",
    "\n",
    "    # After an epoch we'll compute validation perplexity and save the model\n",
    "    # for early stopping if it's better than previous models.\n",
    "    print(\"Finished epoch %d\" % (epoch_num))\n",
    "    val_perplexity, val_NLL = eval_perplexity(model, inference_model, val_dataset, vocab, device, \n",
    "                                              n_importance_samples)\n",
    "    val_rec_loss, val_KL = eval_elbo(model, inference_model, val_dataset, vocab, device)\n",
    "    val_ELBO = -(val_rec_loss - val_KL)\n",
    "    \n",
    "    # Keep track of the validation perplexities / NLL.\n",
    "    val_perplexities.append((epoch_num, val_perplexity.item()))\n",
    "    val_NLLs.append((epoch_num, val_NLL.item()))\n",
    "    \n",
    "    # If validation perplexity is better, store this model for early stopping.\n",
    "    if val_perplexity < best_val_ppl:\n",
    "        best_val_ppl = val_perplexity\n",
    "        best_epoch = epoch_num\n",
    "        torch.save(model.state_dict(), best_model)\n",
    "        \n",
    "    # Print epoch statistics.\n",
    "    print(\"Evaluation epoch %d:\\n\"\n",
    "          \" - validation perplexity: %.2f\\n\"\n",
    "          \" - validation NLL: %.2f\\n\"\n",
    "          \" - validation ELBO (KL) = %.2f (%.2f)\"\n",
    "          % (epoch_num, val_perplexity, val_NLL, val_ELBO, val_KL))\n",
    "\n",
    "    # Also show some qualitative results by reconstructing a sentence from the\n",
    "    # validation data. Use the mean of the approximate posterior and greedy\n",
    "    # decoding.\n",
    "    random_sentence = val_dataset[np.random.choice(len(val_dataset))]\n",
    "    x_in, _, seq_mask, seq_len = create_batch([random_sentence], vocab, device)\n",
    "    qz = inference_model(x_in, seq_mask, seq_len)\n",
    "    z = qz.mean()\n",
    "    reconstruction = greedy_decode(model, z, vocab)\n",
    "    reconstruction = batch_to_sentences(reconstruction, vocab)[0]\n",
    "    print(\"-- Original sentence: \\\"%s\\\"\" % random_sentence)\n",
    "    print(\"-- Model reconstruction: \\\"%s\\\"\" % reconstruction)"
   ]
  },
  {
   "cell_type": "markdown",
   "metadata": {
    "colab_type": "text",
    "id": "h2GpYHvqScSK"
   },
   "source": [
    "# Let's plot the training and validation statistics:"
   ]
  },
  {
   "cell_type": "code",
   "execution_count": 21,
   "metadata": {
    "colab": {},
    "colab_type": "code",
    "id": "IYnp8E4MScSL"
   },
   "outputs": [
    {
     "data": {
      "image/png": "[encoded data removed]",
      "text/plain": [
       "<Figure size 1296x360 with 2 Axes>"
      ]
     },
     "metadata": {
      "needs_background": "light"
     },
     "output_type": "display_data"
    },
    {
     "data": {
      "image/png": "[encoded data removed]",
      "text/plain": [
       "<Figure size 1296x360 with 2 Axes>"
      ]
     },
     "metadata": {
      "needs_background": "light"
     },
     "output_type": "display_data"
    },
    {
     "data": {
      "image/png": "[encoded data removed]",
      "text/plain": [
       "<Figure size 1296x360 with 2 Axes>"
      ]
     },
     "metadata": {
      "needs_background": "light"
     },
     "output_type": "display_data"
    },
    {
     "name": "stdout",
     "output_type": "stream",
     "text": [
      "\n"
     ]
    }
   ],
   "source": [
    "steps, training_ELBO = list(zip(*train_ELBOs))\n",
    "_, training_KL = list(zip(*train_KLs))\n",
    "_, val_ELBO = list(zip(*val_ELBOs))\n",
    "_, val_KL = list(zip(*val_KLs))\n",
    "epochs, val_ppl = list(zip(*val_perplexities))\n",
    "_, val_NLL = list(zip(*val_NLLs))\n",
    "\n",
    "fig, (ax1, ax2) = plt.subplots(1, 2, figsize=(18, 5))\n",
    "\n",
    "# Plot training ELBO and KL\n",
    "ax1.set_title(\"Training ELBO\")\n",
    "ax1.plot(steps, training_ELBO, \"-o\")\n",
    "ax2.set_title(\"Training KL\")\n",
    "ax2.plot(steps, training_KL, \"-o\")\n",
    "plt.show()\n",
    "\n",
    "# Plot validation ELBO and KL\n",
    "fig, (ax1, ax2) = plt.subplots(1, 2, figsize=(18, 5))\n",
    "ax1.set_title(\"Validation ELBO\")\n",
    "ax1.plot(steps, val_ELBO, \"-o\", color=\"orange\")\n",
    "ax2.set_title(\"Validation KL\")\n",
    "ax2.plot(steps, val_KL, \"-o\",  color=\"orange\")\n",
    "plt.show()\n",
    "\n",
    "# Plot validation perplexities.\n",
    "fig, (ax1, ax2) = plt.subplots(1, 2, figsize=(18, 5))\n",
    "ax1.set_title(\"Validation perplexity\")\n",
    "ax1.plot(epochs, val_ppl, \"-o\", color=\"orange\")\n",
    "ax2.set_title(\"Validation NLL\")\n",
    "ax2.plot(epochs, val_NLL, \"-o\",  color=\"orange\")\n",
    "plt.show()\n",
    "print()"
   ]
  },
  {
   "cell_type": "markdown",
   "metadata": {
    "colab_type": "text",
    "id": "AF4L6yyKScSP"
   },
   "source": [
    "Let's load the best model according to validation perplexity and compute its perplexity on the test data:"
   ]
  },
  {
   "cell_type": "code",
   "execution_count": 22,
   "metadata": {
    "colab": {},
    "colab_type": "code",
    "id": "K25svlmSScSQ"
   },
   "outputs": [
    {
     "name": "stdout",
     "output_type": "stream",
     "text": [
      "test ELBO (KL) = 100.60 (4.74) -- test perplexity = 411.06 -- test NLL = 109.74\n"
     ]
    }
   ],
   "source": [
    "# Load the best model from disk.\n",
    "model = BowmanLM(vocab_size=vocab.size(), \n",
    "                 emb_size=emb_size, \n",
    "                 hidden_size=hidden_size, \n",
    "                 latent_size=latent_size, \n",
    "                 pad_idx=vocab[PAD_TOKEN],\n",
    "                 dropout=dropout)\n",
    "model.load_state_dict(torch.load(best_model))\n",
    "model = model.to(device)\n",
    "\n",
    "# Compute test perplexity and ELBO.\n",
    "test_perplexity, test_NLL = eval_perplexity(model, inference_model, test_dataset, vocab, \n",
    "                                            device, n_importance_samples)\n",
    "test_rec_loss, test_KL = eval_elbo(model, inference_model, test_dataset, vocab, device)\n",
    "test_ELBO = test_rec_loss - test_KL\n",
    "print(\"test ELBO (KL) = %.2f (%.2f) -- test perplexity = %.2f -- test NLL = %.2f\" % \n",
    "      (test_ELBO, test_KL, test_perplexity, test_NLL))"
   ]
  },
  {
   "cell_type": "markdown",
   "metadata": {
    "colab_type": "text",
    "id": "DlxoPIa_ScSS"
   },
   "source": [
    "# Qualitative analysis\n",
    "\n",
    "Let's have a look at what how our trained model interacts with the learned latent space. First let's greedily decode some samples from the prior to assess the diversity of the model:"
   ]
  },
  {
   "cell_type": "code",
   "execution_count": 23,
   "metadata": {
    "colab": {},
    "colab_type": "code",
    "id": "1x9siL9aScST"
   },
   "outputs": [
    {
     "name": "stdout",
     "output_type": "stream",
     "text": [
      "1: Source Telerate Systems Inc\n",
      "2: The company said it will be a new post of the company 's largest shareholder\n",
      "3: Revenue rose to 3.8 billion from 3.13 billion\n",
      "4: And the company 's stock market is n't going to be a good idea\n",
      "5: A spokesman for the company said it will be a new post of the company 's largest shareholder\n",
      "6: They are n't expected to be a good idea\n",
      "7: It 's a lot of the market 's\n",
      "8: The company said it will be a new post of the company 's largest shareholder\n",
      "9: Many of the U.S. and other things are n't expected to be a good idea\n",
      "10: The company said it will be a new post of the company 's largest shareholder\n"
     ]
    }
   ],
   "source": [
    "# Generate 10 samples from the standard normal prior.\n",
    "num_prior_samples = 10\n",
    "pz = Normal(torch.zeros(num_prior_samples, latent_size), \n",
    "            torch.ones(num_prior_samples, latent_size))\n",
    "z = pz.sample()\n",
    "z = z.to(device)\n",
    "\n",
    "# Use the greedy decoding algorithm to generate sentences.\n",
    "predictions = greedy_decode(model, z, vocab)\n",
    "predictions = batch_to_sentences(predictions, vocab)\n",
    "for num, prediction in enumerate(predictions):\n",
    "    print(\"%d: %s\" % (num+1, prediction))"
   ]
  },
  {
   "cell_type": "markdown",
   "metadata": {
    "colab_type": "text",
    "id": "O7T4hLydScSV"
   },
   "source": [
    "Let's now have a look how good the model is at reconstructing sentences from the test dataset using the approximate posterior mean and a couple of samples:"
   ]
  },
  {
   "cell_type": "code",
   "execution_count": 24,
   "metadata": {
    "colab": {},
    "colab_type": "code",
    "id": "6fi-g4ASScSW"
   },
   "outputs": [
    {
     "name": "stdout",
     "output_type": "stream",
     "text": [
      "Original: \"The year-earlier period included a one-time gain of 3.5 million or four cents a share\"\n",
      "Posterior mean reconstruction: \"The company said it will be a new post of the company 's largest shareholder\"\n",
      "Posterior sample reconstruction (1): \"The company said it will be a new post of the company 's largest shareholder\"\n",
      "Posterior sample reconstruction (2): \"The company said it will be a new post of the company 's largest shareholder\"\n",
      "Posterior sample reconstruction (3): \"The company said it will be a new post of the company 's largest shareholder\"\n"
     ]
    }
   ],
   "source": [
    "# Pick a random test sentence.\n",
    "test_sentence = test_dataset[np.random.choice(len(test_dataset))]\n",
    "\n",
    "# Infer q(z|x).\n",
    "x_in, _, seq_mask, seq_len = create_batch([test_sentence], vocab, device)\n",
    "qz = inference_model(x_in, seq_mask, seq_len)\n",
    "\n",
    "# Decode using the mean.\n",
    "z_mean = qz.mean()\n",
    "mean_reconstruction = greedy_decode(model, z_mean, vocab)\n",
    "mean_reconstruction = batch_to_sentences(mean_reconstruction, vocab)[0]\n",
    "\n",
    "print(\"Original: \\\"%s\\\"\" % test_sentence)\n",
    "print(\"Posterior mean reconstruction: \\\"%s\\\"\" % mean_reconstruction)\n",
    "\n",
    "# Decode a couple of samples from the approximate posterior.\n",
    "for s in range(3):\n",
    "    z = qz.sample()\n",
    "    sample_reconstruction = greedy_decode(model, z, vocab)\n",
    "    sample_reconstruction = batch_to_sentences(sample_reconstruction, vocab)[0]\n",
    "    print(\"Posterior sample reconstruction (%d): \\\"%s\\\"\" % (s+1, sample_reconstruction))"
   ]
  },
  {
   "cell_type": "markdown",
   "metadata": {
    "colab_type": "text",
    "id": "fi0THhQ5ScSZ"
   },
   "source": [
    "We can also qualitatively assess the smoothness of the learned latent space by interpolating between two sentences in the test set:"
   ]
  },
  {
   "cell_type": "code",
   "execution_count": 25,
   "metadata": {
    "colab": {},
    "colab_type": "code",
    "id": "y8Ai6FxnScSZ"
   },
   "outputs": [
    {
     "name": "stdout",
     "output_type": "stream",
     "text": [
      "Sentence 1: \"FRANKLIN SAVINGS ASSOCIATION Ottawa Kan.\"\n",
      "(1-0.00) * qz1.mean + 0.00 qz2.mean: \"Mr. Paul has been a very good idea\"\n",
      "(1-0.25) * qz1.mean + 0.25 qz2.mean: \"They are n't going to be a good idea\"\n",
      "(1-0.50) * qz1.mean + 0.50 qz2.mean: \"Some analysts say the company 's stock market is n't expected to be a good idea\"\n",
      "(1-0.75) * qz1.mean + 0.75 qz2.mean: \"Many of the U.S. currency opened in the past two years ago the company said it will be a year earlier this year\"\n",
      "(1-1.00) * qz1.mean + 1.00 qz2.mean: \"Revenue rose to 3.8 billion from 3.13 billion\"\n",
      "Sentence 2: \"Futures traders say the S&P was signaling that the Dow could fall as much as 200 points\"\n"
     ]
    }
   ],
   "source": [
    "# Pick a random test sentence.\n",
    "test_sentence_1 = test_dataset[np.random.choice(len(test_dataset))]\n",
    "\n",
    "# Infer q(z|x).\n",
    "x_in, _, seq_mask, seq_len = create_batch([test_sentence_1], vocab, device)\n",
    "qz = inference_model(x_in, seq_mask, seq_len)\n",
    "qz_1 = qz.mean()\n",
    "\n",
    "# Pick a random second test sentence.\n",
    "test_sentence_2 = test_dataset[np.random.choice(len(test_dataset))]\n",
    "\n",
    "# Infer q(z|x) again.\n",
    "x_in, _, seq_mask, seq_len = create_batch([test_sentence_2], vocab, device)\n",
    "qz = inference_model(x_in, seq_mask, seq_len)\n",
    "qz_2 = qz.mean()\n",
    "\n",
    "# Now interpolate between the two means and generate sentences between those.\n",
    "num_sentences = 5\n",
    "print(\"Sentence 1: \\\"%s\\\"\" % test_sentence_1)\n",
    "for alpha in np.linspace(start=0., stop=1., num=num_sentences):\n",
    "    z = (1-alpha) * qz_1 + alpha * qz_2\n",
    "    reconstruction = greedy_decode(model, z, vocab)\n",
    "    reconstruction = batch_to_sentences(reconstruction, vocab)[0]\n",
    "    print(\"(1-%.2f) * qz1.mean + %.2f qz2.mean: \\\"%s\\\"\" % (alpha, alpha, reconstruction))\n",
    "print(\"Sentence 2: \\\"%s\\\"\" % test_sentence_2)"
   ]
  },
  {
   "cell_type": "markdown",
   "metadata": {
    "colab": {},
    "colab_type": "code",
    "id": "C_dLVVbiScSd"
   },
   "source": [
    "Выберем случайное предложение и заэнкодим его."
   ]
  },
  {
   "cell_type": "code",
   "execution_count": 33,
   "metadata": {},
   "outputs": [
    {
     "name": "stdout",
     "output_type": "stream",
     "text": [
      "The centers normally are closed through the weekend\n"
     ]
    }
   ],
   "source": [
    "random_sentence = test_dataset[np.random.choice(len(test_dataset))]\n",
    "x_in, _, seq_mask, seq_len = create_batch([random_sentence], vocab, device)\n",
    "random_sentence_qz = inference_model(x_in, seq_mask, seq_len)\n",
    "\n",
    "print(random_sentence)"
   ]
  },
  {
   "cell_type": "markdown",
   "metadata": {},
   "source": [
    "Теперь найдем в датасете 10 самых похожих в смысле дивиргенции Кульбака-Лейблера предложений."
   ]
  },
  {
   "cell_type": "code",
   "execution_count": 41,
   "metadata": {},
   "outputs": [
    {
     "name": "stdout",
     "output_type": "stream",
     "text": [
      "0.0 The centers normally are closed through the weekend\n",
      "0.009528068825602531 The announcement caused the company 's stock to surge 6.50 to close at 75.50 a share\n",
      "0.01338452473282814 The drug introduced last year is expected to generate sales of about 300 million this year\n",
      "0.014614120125770569 The futures halt was even assailed by Big Board floor traders\n",
      "0.016034888103604317 The effects were much less severe and less prolonged than some had feared or expected\n",
      "0.01616266369819641 The consensus among economists is that it grew a much more sluggish 2.3 % in the third quarter of 1989 which ended two weeks ago\n",
      "0.02703849971294403 The privilege however has been limited in accordance with plain language to protect the defendant in criminal matters only\n",
      "0.029599061235785484 The gap between winners and laggards will grow\n",
      "0.03446219488978386 The lagging gas price is not going to assist fourth quarter performance as many had expected\n",
      "0.04166483134031296 The legislation requires thrifts to divest themselves of junk bonds in the new somber regulatory climate\n"
     ]
    }
   ],
   "source": [
    "from heapq import heappush, heappop\n",
    "heap = []\n",
    "for sentence in test_dataset:\n",
    "    x_in, _, seq_mask, seq_len = create_batch([sentence], vocab, device)\n",
    "    sentence_qz = inference_model(x_in, seq_mask, seq_len)\n",
    "    kl = float(random_sentence_qz.kl(sentence_qz).sum(dim=1))\n",
    "    heappush(heap, (kl, sentence))\n",
    "\n",
    "for i in range(10):\n",
    "    kl, sentence = heappop(heap)\n",
    "    print(kl, sentence)"
   ]
  },
  {
   "cell_type": "markdown",
   "metadata": {},
   "source": [
    "Хотябы наше предложение ближе всех к себе. Но в целом, латентное пространство похоже плохо выучилось"
   ]
  },
  {
   "cell_type": "markdown",
   "metadata": {},
   "source": [
    "Учитывая то, каким получилось латентное пространство, второе задание кажется мне довольно бессмысленным. Но все же надем пары предложений x1, x2, такие что $kl(q_{x1}||q_{x2})<0.5$ и $kl(q_{x2}||q_{x1}) > 2$"
   ]
  },
  {
   "cell_type": "code",
   "execution_count": 51,
   "metadata": {},
   "outputs": [
    {
     "name": "stdout",
     "output_type": "stream",
     "text": [
      "2040 / 2041: 0\n"
     ]
    }
   ],
   "source": [
    "from IPython.display import clear_output\n",
    "result = set()\n",
    "for i, sentence_1 in enumerate(test_dataset):\n",
    "    if len(result) > 0:\n",
    "        break\n",
    "    clear_output()\n",
    "    print(\"{} / {}: {}\".format(i, len(test_dataset), len(result)))\n",
    "    \n",
    "    x_in, _, seq_mask, seq_len = create_batch([sentence_1], vocab, device)\n",
    "    qz_1 = inference_model(x_in, seq_mask, seq_len)\n",
    "    for sentence_2 in test_dataset:\n",
    "        if sentence_1 == sentence_2:\n",
    "            continue\n",
    "        x_in, _, seq_mask, seq_len = create_batch([sentence_2], vocab, device)\n",
    "        qz_2 = inference_model(x_in, seq_mask, seq_len)\n",
    "        kl_1 = float(qz_1.kl(qz_2).sum(dim=1))\n",
    "        kl_2 = float(qz_2.kl(qz_1).sum(dim=1))\n",
    "        if (kl_1 < 0.5) and (kl_2 > 2):\n",
    "            result.add((sentence_1, sentence_2))\n",
    "        if (kl_2 < 0.5) and (kl_1 > 2):\n",
    "            result.add((sentence_2, sentence_1))"
   ]
  },
  {
   "cell_type": "markdown",
   "metadata": {},
   "source": [
    "Оказалось, таких пар в датасете нет. Кажется, это хороший признак. Это означет, что какая-то симметричность в kl все же присутствует."
   ]
  },
  {
   "cell_type": "code",
   "execution_count": null,
   "metadata": {},
   "outputs": [],
   "source": []
  }
 ],
 "metadata": {
  "accelerator": "GPU",
  "colab": {
   "include_colab_link": true,
   "name": "SentVAE.ipynb",
   "provenance": [],
   "version": "0.3.2"
  },
  "kernelspec": {
   "display_name": "Python 3",
   "language": "python",
   "name": "python3"
  },
  "language_info": {
   "codemirror_mode": {
    "name": "ipython",
    "version": 3
   },
   "file_extension": ".py",
   "mimetype": "text/x-python",
   "name": "python",
   "nbconvert_exporter": "python",
   "pygments_lexer": "ipython3",
   "version": "3.5.2"
  }
 },
 "nbformat": 4,
 "nbformat_minor": 1
}
